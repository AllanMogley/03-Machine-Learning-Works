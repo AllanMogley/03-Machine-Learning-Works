{
  "cells": [
    {
      "cell_type": "markdown",
      "id": "d0fa46a8",
      "metadata": {
        "id": "d0fa46a8"
      },
      "source": [
        "[![Open In Colab](https://colab.research.google.com/assets/colab-badge.svg)](https://colab.research.google.com/github/pinecone-io/examples/blob/master/learn/image-retrieval/cnn/cifar10.ipynb) [![Open nbviewer](https://raw.githubusercontent.com/pinecone-io/examples/master/assets/nbviewer-shield.svg)](https://nbviewer.org/github/pinecone-io/examples/blob/master/learn/image-retrieval/cnn/cifar10.ipynb)"
      ]
    },
    {
      "cell_type": "markdown",
      "id": "b325e409-0b8c-4b80-a936-32b2b7002d68",
      "metadata": {
        "id": "b325e409-0b8c-4b80-a936-32b2b7002d68"
      },
      "source": [
        "### Generate Image Embeddings Using CNNs"
      ]
    },
    {
      "cell_type": "markdown",
      "id": "001eb1ad-7172-4308-a87b-fd9c2ddb29aa",
      "metadata": {
        "id": "001eb1ad-7172-4308-a87b-fd9c2ddb29aa"
      },
      "source": [
        "In this section, we will use PyTorch to build a Convolutional Neural Network from scratch  that generates image embeddings.✔✔✔"
      ]
    },
    {
      "cell_type": "code",
      "source": [
        "# Connect to a Cloud TPU which more powerfuls than a GPU\n",
        "# Make sure to select TPU from Edit > Notebook settings > Hardware accelerator\n",
        "import os\n",
        "assert os.environ['COLAB_TPU_ADDR']"
      ],
      "metadata": {
        "id": "6qx80CznSWWA"
      },
      "id": "6qx80CznSWWA",
      "execution_count": null,
      "outputs": []
    },
    {
      "cell_type": "markdown",
      "source": [
        "# Installing PyTorch/XLA\n",
        "The PyTorch/XLA package lets PyTorch connect to Cloud TPUs. (It's named PyTorch/XLA, not PyTorch/TPU, because XLA is the name of the TPU compiler.) In particular, PyTorch/XLA makes TPU cores available as PyTorch devices. This lets PyTorch create and manipulate tensors on TPUs."
      ],
      "metadata": {
        "id": "Qyk7jhndTPFC"
      },
      "id": "Qyk7jhndTPFC"
    },
    {
      "cell_type": "code",
      "source": [
        "!pip install cloud-tpu-client==0.10 torch==2.0.0 torchvision==0.15.1 https://storage.googleapis.com/tpu-pytorch/wheels/colab/torch_xla-2.0-cp310-cp310-linux_x86_64.whl"
      ],
      "metadata": {
        "id": "SpkWCzNGTb0-",
        "colab": {
          "base_uri": "https://localhost:8080/"
        },
        "outputId": "eeaf0b8d-4696-412a-cc3c-5aea365acf20"
      },
      "id": "SpkWCzNGTb0-",
      "execution_count": null,
      "outputs": [
        {
          "output_type": "stream",
          "name": "stdout",
          "text": [
            "Collecting torch-xla==2.0\n",
            "  Using cached https://storage.googleapis.com/tpu-pytorch/wheels/colab/torch_xla-2.0-cp310-cp310-linux_x86_64.whl (162.9 MB)\n",
            "Requirement already satisfied: cloud-tpu-client==0.10 in /usr/local/lib/python3.10/dist-packages (0.10)\n",
            "Requirement already satisfied: torch==2.0.0 in /usr/local/lib/python3.10/dist-packages (2.0.0)\n",
            "Requirement already satisfied: torchvision==0.15.1 in /usr/local/lib/python3.10/dist-packages (0.15.1)\n",
            "Requirement already satisfied: google-api-python-client==1.8.0 in /usr/local/lib/python3.10/dist-packages (from cloud-tpu-client==0.10) (1.8.0)\n",
            "Requirement already satisfied: oauth2client in /usr/local/lib/python3.10/dist-packages (from cloud-tpu-client==0.10) (4.1.3)\n",
            "Requirement already satisfied: filelock in /usr/local/lib/python3.10/dist-packages (from torch==2.0.0) (3.12.2)\n",
            "Requirement already satisfied: typing-extensions in /usr/local/lib/python3.10/dist-packages (from torch==2.0.0) (4.7.1)\n",
            "Requirement already satisfied: sympy in /usr/local/lib/python3.10/dist-packages (from torch==2.0.0) (1.11.1)\n",
            "Requirement already satisfied: networkx in /usr/local/lib/python3.10/dist-packages (from torch==2.0.0) (3.1)\n",
            "Requirement already satisfied: jinja2 in /usr/local/lib/python3.10/dist-packages (from torch==2.0.0) (3.1.2)\n",
            "Requirement already satisfied: nvidia-cuda-nvrtc-cu11==11.7.99 in /usr/local/lib/python3.10/dist-packages (from torch==2.0.0) (11.7.99)\n",
            "Requirement already satisfied: nvidia-cuda-runtime-cu11==11.7.99 in /usr/local/lib/python3.10/dist-packages (from torch==2.0.0) (11.7.99)\n",
            "Requirement already satisfied: nvidia-cuda-cupti-cu11==11.7.101 in /usr/local/lib/python3.10/dist-packages (from torch==2.0.0) (11.7.101)\n",
            "Requirement already satisfied: nvidia-cudnn-cu11==8.5.0.96 in /usr/local/lib/python3.10/dist-packages (from torch==2.0.0) (8.5.0.96)\n",
            "Requirement already satisfied: nvidia-cublas-cu11==11.10.3.66 in /usr/local/lib/python3.10/dist-packages (from torch==2.0.0) (11.10.3.66)\n",
            "Requirement already satisfied: nvidia-cufft-cu11==10.9.0.58 in /usr/local/lib/python3.10/dist-packages (from torch==2.0.0) (10.9.0.58)\n",
            "Requirement already satisfied: nvidia-curand-cu11==10.2.10.91 in /usr/local/lib/python3.10/dist-packages (from torch==2.0.0) (10.2.10.91)\n",
            "Requirement already satisfied: nvidia-cusolver-cu11==11.4.0.1 in /usr/local/lib/python3.10/dist-packages (from torch==2.0.0) (11.4.0.1)\n",
            "Requirement already satisfied: nvidia-cusparse-cu11==11.7.4.91 in /usr/local/lib/python3.10/dist-packages (from torch==2.0.0) (11.7.4.91)\n",
            "Requirement already satisfied: nvidia-nccl-cu11==2.14.3 in /usr/local/lib/python3.10/dist-packages (from torch==2.0.0) (2.14.3)\n",
            "Requirement already satisfied: nvidia-nvtx-cu11==11.7.91 in /usr/local/lib/python3.10/dist-packages (from torch==2.0.0) (11.7.91)\n",
            "Requirement already satisfied: triton==2.0.0 in /usr/local/lib/python3.10/dist-packages (from torch==2.0.0) (2.0.0)\n",
            "Requirement already satisfied: numpy in /usr/local/lib/python3.10/dist-packages (from torchvision==0.15.1) (1.25.1)\n",
            "Requirement already satisfied: requests in /usr/local/lib/python3.10/dist-packages (from torchvision==0.15.1) (2.27.1)\n",
            "Requirement already satisfied: pillow!=8.3.*,>=5.3.0 in /usr/local/lib/python3.10/dist-packages (from torchvision==0.15.1) (8.4.0)\n",
            "Requirement already satisfied: httplib2<1dev,>=0.9.2 in /usr/local/lib/python3.10/dist-packages (from google-api-python-client==1.8.0->cloud-tpu-client==0.10) (0.21.0)\n",
            "Requirement already satisfied: google-auth>=1.4.1 in /usr/local/lib/python3.10/dist-packages (from google-api-python-client==1.8.0->cloud-tpu-client==0.10) (2.17.3)\n",
            "Requirement already satisfied: google-auth-httplib2>=0.0.3 in /usr/local/lib/python3.10/dist-packages (from google-api-python-client==1.8.0->cloud-tpu-client==0.10) (0.1.0)\n",
            "Requirement already satisfied: google-api-core<2dev,>=1.13.0 in /usr/local/lib/python3.10/dist-packages (from google-api-python-client==1.8.0->cloud-tpu-client==0.10) (1.34.0)\n",
            "Requirement already satisfied: six<2dev,>=1.6.1 in /usr/local/lib/python3.10/dist-packages (from google-api-python-client==1.8.0->cloud-tpu-client==0.10) (1.16.0)\n",
            "Requirement already satisfied: uritemplate<4dev,>=3.0.0 in /usr/local/lib/python3.10/dist-packages (from google-api-python-client==1.8.0->cloud-tpu-client==0.10) (3.0.1)\n",
            "Requirement already satisfied: setuptools in /usr/local/lib/python3.10/dist-packages (from nvidia-cublas-cu11==11.10.3.66->torch==2.0.0) (67.7.2)\n",
            "Requirement already satisfied: wheel in /usr/local/lib/python3.10/dist-packages (from nvidia-cublas-cu11==11.10.3.66->torch==2.0.0) (0.40.0)\n",
            "Requirement already satisfied: cmake in /usr/local/lib/python3.10/dist-packages (from triton==2.0.0->torch==2.0.0) (3.25.2)\n",
            "Requirement already satisfied: lit in /usr/local/lib/python3.10/dist-packages (from triton==2.0.0->torch==2.0.0) (16.0.6)\n",
            "Requirement already satisfied: absl-py>=1.0.0 in /usr/local/lib/python3.10/dist-packages (from torch-xla==2.0) (1.4.0)\n",
            "Requirement already satisfied: MarkupSafe>=2.0 in /usr/local/lib/python3.10/dist-packages (from jinja2->torch==2.0.0) (2.1.3)\n",
            "Requirement already satisfied: pyasn1>=0.1.7 in /usr/local/lib/python3.10/dist-packages (from oauth2client->cloud-tpu-client==0.10) (0.5.0)\n",
            "Requirement already satisfied: pyasn1-modules>=0.0.5 in /usr/local/lib/python3.10/dist-packages (from oauth2client->cloud-tpu-client==0.10) (0.3.0)\n",
            "Requirement already satisfied: rsa>=3.1.4 in /usr/local/lib/python3.10/dist-packages (from oauth2client->cloud-tpu-client==0.10) (4.9)\n",
            "Requirement already satisfied: urllib3<1.27,>=1.21.1 in /usr/local/lib/python3.10/dist-packages (from requests->torchvision==0.15.1) (1.26.16)\n",
            "Requirement already satisfied: certifi>=2017.4.17 in /usr/local/lib/python3.10/dist-packages (from requests->torchvision==0.15.1) (2023.5.7)\n",
            "Requirement already satisfied: charset-normalizer~=2.0.0 in /usr/local/lib/python3.10/dist-packages (from requests->torchvision==0.15.1) (2.0.12)\n",
            "Requirement already satisfied: idna<4,>=2.5 in /usr/local/lib/python3.10/dist-packages (from requests->torchvision==0.15.1) (3.4)\n",
            "Requirement already satisfied: mpmath>=0.19 in /usr/local/lib/python3.10/dist-packages (from sympy->torch==2.0.0) (1.3.0)\n",
            "Requirement already satisfied: googleapis-common-protos<2.0dev,>=1.56.2 in /usr/local/lib/python3.10/dist-packages (from google-api-core<2dev,>=1.13.0->google-api-python-client==1.8.0->cloud-tpu-client==0.10) (1.59.1)\n",
            "Requirement already satisfied: protobuf!=3.20.0,!=3.20.1,!=4.21.0,!=4.21.1,!=4.21.2,!=4.21.3,!=4.21.4,!=4.21.5,<4.0.0dev,>=3.19.5 in /usr/local/lib/python3.10/dist-packages (from google-api-core<2dev,>=1.13.0->google-api-python-client==1.8.0->cloud-tpu-client==0.10) (3.20.3)\n",
            "Requirement already satisfied: cachetools<6.0,>=2.0.0 in /usr/local/lib/python3.10/dist-packages (from google-auth>=1.4.1->google-api-python-client==1.8.0->cloud-tpu-client==0.10) (5.3.1)\n",
            "Requirement already satisfied: pyparsing!=3.0.0,!=3.0.1,!=3.0.2,!=3.0.3,<4,>=2.4.2 in /usr/local/lib/python3.10/dist-packages (from httplib2<1dev,>=0.9.2->google-api-python-client==1.8.0->cloud-tpu-client==0.10) (3.1.0)\n"
          ]
        }
      ]
    },
    {
      "cell_type": "markdown",
      "source": [
        "## Creating and Manipulating Tensors on TPUs\n",
        "\n",
        "PyTorch uses Cloud TPUs just like it uses CPU or CUDA devices, as the next few cells will show. Each core of a Cloud TPU is treated as a different PyTorch  device."
      ],
      "metadata": {
        "id": "os6jOAiQTqxV"
      },
      "id": "os6jOAiQTqxV"
    },
    {
      "cell_type": "code",
      "source": [
        "# imports pytorch\n",
        "import torch\n",
        "\n",
        "# imports the torch_xla package\n",
        "import torch_xla\n",
        "import torch_xla.core.xla_model as xm\n",
        "\n",
        "# Creates a random tensor on xla:1 (a Cloud TPU core)\n",
        "device = xm.xla_device()"
      ],
      "metadata": {
        "id": "_Nxll__dTy1X"
      },
      "id": "_Nxll__dTy1X",
      "execution_count": null,
      "outputs": []
    },
    {
      "cell_type": "markdown",
      "id": "2271958e-cf71-4df8-a3b8-a736dd9c98f7",
      "metadata": {
        "id": "2271958e-cf71-4df8-a3b8-a736dd9c98f7"
      },
      "source": [
        "#### Data Initialization"
      ]
    },
    {
      "cell_type": "markdown",
      "id": "0b5121d0-9e68-4c12-98c5-3132bac48b24",
      "metadata": {
        "id": "0b5121d0-9e68-4c12-98c5-3132bac48b24"
      },
      "source": [
        "Before starting, below are some libraries we would need to build the convolutional network."
      ]
    },
    {
      "cell_type": "code",
      "execution_count": null,
      "id": "747eefd9-2d8d-4b1e-8f04-6e1f62b603e7",
      "metadata": {
        "id": "747eefd9-2d8d-4b1e-8f04-6e1f62b603e7"
      },
      "outputs": [],
      "source": [
        "# Load in relevant libraries, and alias where appropriate\n",
        "import torch\n",
        "import torch.nn as nn\n",
        "import torchvision\n",
        "import torchvision.transforms as transforms"
      ]
    },
    {
      "cell_type": "markdown",
      "id": "5685d59c-987a-4c9d-af1b-8a9be1ca505b",
      "metadata": {
        "id": "5685d59c-987a-4c9d-af1b-8a9be1ca505b"
      },
      "source": [
        "Given we will be working with a reasonable amount of data, we might want to process it on GPU rather than CPU. To do that, we need to transfer the data from CPU to GPU using ```torch.device```."
      ]
    },
    {
      "cell_type": "code",
      "execution_count": null,
      "id": "50974897-8297-49ed-a3a4-ae09d704313f",
      "metadata": {
        "id": "50974897-8297-49ed-a3a4-ae09d704313f"
      },
      "outputs": [],
      "source": [
        "# Device will determine whether to run the training on GPU or CPU.\n",
        "# device = torch.device('cuda' if torch.cuda.is_available() else 'cpu')"
      ]
    },
    {
      "cell_type": "markdown",
      "id": "3b4d1a1a-c55f-40ce-a4df-6ee38875b45d",
      "metadata": {
        "id": "3b4d1a1a-c55f-40ce-a4df-6ee38875b45d"
      },
      "source": [
        "The first step in building our network is downloading and initializing the dataset.\n",
        "\n",
        "The dataset we are downloading is *CIFAR-10* from HuggingFace.\n",
        "\n",
        "We will first download the training dataset by setting ```split = 'train'```, and the testing dataset after by setting ''split = 'test'```. While the training dataset includes 50,000 images divided into 10 classes, the test dataset includes 10,000 images divided into 10 classes."
      ]
    },
    {
      "cell_type": "code",
      "source": [
        "# Install datasets library\n",
        "!pip install datasets"
      ],
      "metadata": {
        "id": "2SyyLvchWqvB",
        "colab": {
          "base_uri": "https://localhost:8080/"
        },
        "outputId": "ce15e32b-b7a7-42ae-cff8-1cb62dc59434"
      },
      "id": "2SyyLvchWqvB",
      "execution_count": null,
      "outputs": [
        {
          "output_type": "stream",
          "name": "stdout",
          "text": [
            "Requirement already satisfied: datasets in /usr/local/lib/python3.10/dist-packages (2.13.1)\n",
            "Requirement already satisfied: numpy>=1.17 in /usr/local/lib/python3.10/dist-packages (from datasets) (1.25.1)\n",
            "Requirement already satisfied: pyarrow>=8.0.0 in /usr/local/lib/python3.10/dist-packages (from datasets) (9.0.0)\n",
            "Requirement already satisfied: dill<0.3.7,>=0.3.0 in /usr/local/lib/python3.10/dist-packages (from datasets) (0.3.6)\n",
            "Requirement already satisfied: pandas in /usr/local/lib/python3.10/dist-packages (from datasets) (1.5.3)\n",
            "Requirement already satisfied: requests>=2.19.0 in /usr/local/lib/python3.10/dist-packages (from datasets) (2.27.1)\n",
            "Requirement already satisfied: tqdm>=4.62.1 in /usr/local/lib/python3.10/dist-packages (from datasets) (4.65.0)\n",
            "Requirement already satisfied: xxhash in /usr/local/lib/python3.10/dist-packages (from datasets) (3.2.0)\n",
            "Requirement already satisfied: multiprocess in /usr/local/lib/python3.10/dist-packages (from datasets) (0.70.14)\n",
            "Requirement already satisfied: fsspec[http]>=2021.11.1 in /usr/local/lib/python3.10/dist-packages (from datasets) (2023.6.0)\n",
            "Requirement already satisfied: aiohttp in /usr/local/lib/python3.10/dist-packages (from datasets) (3.8.4)\n",
            "Requirement already satisfied: huggingface-hub<1.0.0,>=0.11.0 in /usr/local/lib/python3.10/dist-packages (from datasets) (0.16.4)\n",
            "Requirement already satisfied: packaging in /usr/local/lib/python3.10/dist-packages (from datasets) (23.1)\n",
            "Requirement already satisfied: pyyaml>=5.1 in /usr/local/lib/python3.10/dist-packages (from datasets) (6.0)\n",
            "Requirement already satisfied: attrs>=17.3.0 in /usr/local/lib/python3.10/dist-packages (from aiohttp->datasets) (23.1.0)\n",
            "Requirement already satisfied: charset-normalizer<4.0,>=2.0 in /usr/local/lib/python3.10/dist-packages (from aiohttp->datasets) (2.0.12)\n",
            "Requirement already satisfied: multidict<7.0,>=4.5 in /usr/local/lib/python3.10/dist-packages (from aiohttp->datasets) (6.0.4)\n",
            "Requirement already satisfied: async-timeout<5.0,>=4.0.0a3 in /usr/local/lib/python3.10/dist-packages (from aiohttp->datasets) (4.0.2)\n",
            "Requirement already satisfied: yarl<2.0,>=1.0 in /usr/local/lib/python3.10/dist-packages (from aiohttp->datasets) (1.9.2)\n",
            "Requirement already satisfied: frozenlist>=1.1.1 in /usr/local/lib/python3.10/dist-packages (from aiohttp->datasets) (1.3.3)\n",
            "Requirement already satisfied: aiosignal>=1.1.2 in /usr/local/lib/python3.10/dist-packages (from aiohttp->datasets) (1.3.1)\n",
            "Requirement already satisfied: filelock in /usr/local/lib/python3.10/dist-packages (from huggingface-hub<1.0.0,>=0.11.0->datasets) (3.12.2)\n",
            "Requirement already satisfied: typing-extensions>=3.7.4.3 in /usr/local/lib/python3.10/dist-packages (from huggingface-hub<1.0.0,>=0.11.0->datasets) (4.7.1)\n",
            "Requirement already satisfied: urllib3<1.27,>=1.21.1 in /usr/local/lib/python3.10/dist-packages (from requests>=2.19.0->datasets) (1.26.16)\n",
            "Requirement already satisfied: certifi>=2017.4.17 in /usr/local/lib/python3.10/dist-packages (from requests>=2.19.0->datasets) (2023.5.7)\n",
            "Requirement already satisfied: idna<4,>=2.5 in /usr/local/lib/python3.10/dist-packages (from requests>=2.19.0->datasets) (3.4)\n",
            "Requirement already satisfied: python-dateutil>=2.8.1 in /usr/local/lib/python3.10/dist-packages (from pandas->datasets) (2.8.2)\n",
            "Requirement already satisfied: pytz>=2020.1 in /usr/local/lib/python3.10/dist-packages (from pandas->datasets) (2022.7.1)\n",
            "Requirement already satisfied: six>=1.5 in /usr/local/lib/python3.10/dist-packages (from python-dateutil>=2.8.1->pandas->datasets) (1.16.0)\n"
          ]
        }
      ]
    },
    {
      "cell_type": "code",
      "execution_count": null,
      "id": "87510a3c-9382-4a39-a39b-ded727bf6f1d",
      "metadata": {
        "id": "87510a3c-9382-4a39-a39b-ded727bf6f1d",
        "colab": {
          "base_uri": "https://localhost:8080/"
        },
        "outputId": "e8d50ce9-41ad-43ab-d82a-534e1382dbc7"
      },
      "outputs": [
        {
          "output_type": "stream",
          "name": "stderr",
          "text": [
            "/usr/local/lib/python3.10/dist-packages/datasets/load.py:1760: FutureWarning: 'ignore_verifications' was deprecated in favor of 'verification_mode' in version 2.9.1 and will be removed in 3.0.0.\n",
            "You can remove this warning by passing 'verification_mode=no_checks' instead.\n",
            "  warnings.warn(\n",
            "WARNING:datasets.builder:Found cached dataset cifar10 (/root/.cache/huggingface/datasets/cifar10/plain_text/1.0.0/447d6ec4733dddd1ce3bb577c7166b986eaa4c538dcd9e805ba61f35674a9de4)\n"
          ]
        },
        {
          "output_type": "execute_result",
          "data": {
            "text/plain": [
              "Dataset({\n",
              "    features: ['img', 'label'],\n",
              "    num_rows: 500\n",
              "})"
            ]
          },
          "metadata": {},
          "execution_count": 8
        }
      ],
      "source": [
        "# import CIFAR-10 dataset from HuggingFace\n",
        "from datasets import load_dataset\n",
        "\n",
        "dataset_train = load_dataset(\n",
        "    'cifar10',\n",
        "    split='train[:1%]', # 1% training dataset\n",
        "    # split='train', # training dataset\n",
        "    ignore_verifications=True  # set to True if seeing splits Error\n",
        ")\n",
        "\n",
        "dataset_train"
      ]
    },
    {
      "cell_type": "code",
      "execution_count": null,
      "id": "8df80571-3e94-492c-8750-898464f7092c",
      "metadata": {
        "colab": {
          "base_uri": "https://localhost:8080/"
        },
        "id": "8df80571-3e94-492c-8750-898464f7092c",
        "outputId": "071673dd-e030-47d0-dfc9-32c0bdbe7da0"
      },
      "outputs": [
        {
          "output_type": "execute_result",
          "data": {
            "text/plain": [
              "10"
            ]
          },
          "metadata": {},
          "execution_count": 9
        }
      ],
      "source": [
        "# check how many labels/number of classes\n",
        "num_classes = len(set(dataset_train['label']))\n",
        "num_classes"
      ]
    },
    {
      "cell_type": "code",
      "execution_count": null,
      "id": "a5cc6158-181b-4790-92b2-073670bfc975",
      "metadata": {
        "id": "a5cc6158-181b-4790-92b2-073670bfc975",
        "outputId": "cead575d-6581-402a-90e8-9c2ce0216583",
        "colab": {
          "base_uri": "https://localhost:8080/",
          "height": 49
        }
      },
      "outputs": [
        {
          "output_type": "execute_result",
          "data": {
            "text/plain": [
              "<PIL.PngImagePlugin.PngImageFile image mode=RGB size=32x32 at 0x7FB881B67C70>"
            ],
            "image/png": "[encoded data removed]"
          },
          "metadata": {},
          "execution_count": 10
        }
      ],
      "source": [
        "# let's view the image (it's very small)\n",
        "dataset_train[0]['img']"
      ]
    },
    {
      "cell_type": "code",
      "execution_count": null,
      "id": "ba410153-e667-4e75-953e-fa3969568139",
      "metadata": {
        "id": "ba410153-e667-4e75-953e-fa3969568139",
        "outputId": "646cba2d-6692-446e-9192-6490ff155e9b",
        "colab": {
          "base_uri": "https://localhost:8080/"
        }
      },
      "outputs": [
        {
          "output_type": "execute_result",
          "data": {
            "text/plain": [
              "PIL.PngImagePlugin.PngImageFile"
            ]
          },
          "metadata": {},
          "execution_count": 11
        }
      ],
      "source": [
        "type(dataset_train[0]['img'])"
      ]
    },
    {
      "cell_type": "markdown",
      "id": "9ffafa0e-7189-420f-9a9a-01fe33ed195a",
      "metadata": {
        "id": "9ffafa0e-7189-420f-9a9a-01fe33ed195a"
      },
      "source": [
        "Now pull in the test set (that we will use as a validation set)."
      ]
    },
    {
      "cell_type": "code",
      "execution_count": null,
      "id": "c419b9b4-13a1-4a21-8dfd-7d083f893220",
      "metadata": {
        "colab": {
          "base_uri": "https://localhost:8080/"
        },
        "id": "c419b9b4-13a1-4a21-8dfd-7d083f893220",
        "outputId": "98db3832-0aca-4642-a5e8-2b17d3159360"
      },
      "outputs": [
        {
          "output_type": "stream",
          "name": "stderr",
          "text": [
            "/usr/local/lib/python3.10/dist-packages/datasets/load.py:1760: FutureWarning: 'ignore_verifications' was deprecated in favor of 'verification_mode' in version 2.9.1 and will be removed in 3.0.0.\n",
            "You can remove this warning by passing 'verification_mode=no_checks' instead.\n",
            "  warnings.warn(\n",
            "WARNING:datasets.builder:Found cached dataset cifar10 (/root/.cache/huggingface/datasets/cifar10/plain_text/1.0.0/447d6ec4733dddd1ce3bb577c7166b986eaa4c538dcd9e805ba61f35674a9de4)\n"
          ]
        },
        {
          "output_type": "execute_result",
          "data": {
            "text/plain": [
              "Dataset({\n",
              "    features: ['img', 'label'],\n",
              "    num_rows: 100\n",
              "})"
            ]
          },
          "metadata": {},
          "execution_count": 12
        }
      ],
      "source": [
        "dataset_val = load_dataset(\n",
        "    'cifar10',\n",
        "    split='test[:1%]', # 10% test dataset\n",
        "    # split='test', # test dataset\n",
        "    ignore_verifications=True  # set to True if seeing splits Error\n",
        ")\n",
        "\n",
        "dataset_val"
      ]
    },
    {
      "cell_type": "markdown",
      "id": "40ad0341-9989-4ddc-88a7-4ee31d9136d3",
      "metadata": {
        "id": "40ad0341-9989-4ddc-88a7-4ee31d9136d3"
      },
      "source": [
        "Most convolutional neural networks are designed so that they can only accept images of a fixed size. It's common practice to overcome this by reshaping the input images.\n",
        "\n",
        "We chose to reshape the image to 32 pixels - see ```img_size```.\n",
        "\n",
        "In addition, PyTorch uses tensors.\n",
        "\n",
        "Therefore, we will transform the data using the ```transforms.Compose``` method, and save the reshaped tensors in the ```preprocess``` variable."
      ]
    },
    {
      "cell_type": "code",
      "execution_count": null,
      "id": "a4d7c395-5424-4296-9b9b-f78ee9d08695",
      "metadata": {
        "id": "a4d7c395-5424-4296-9b9b-f78ee9d08695"
      },
      "outputs": [],
      "source": [
        "# image size\n",
        "img_size = 32\n",
        "\n",
        "# preprocess variable, to be used ahead\n",
        "preprocess = transforms.Compose([\n",
        "    transforms.Resize((img_size,img_size)),\n",
        "    transforms.ToTensor()\n",
        "])"
      ]
    },
    {
      "cell_type": "markdown",
      "id": "df4d64ee-c5e5-4dfe-829c-35b0080c1ea0",
      "metadata": {
        "id": "df4d64ee-c5e5-4dfe-829c-35b0080c1ea0"
      },
      "source": [
        "We can now use the ```preprocess``` variable on the dataset with the following loop. However, when we build a cnn, we should ensure every image has the same number of input channels (or depth). This is because the input dimension to the cnn cannot change.\n",
        "\n",
        "If we have RGB images, the depth will be $3$, with one channel for each color (red, green, and blue). If we have grayscale images, the depth will be $1$.\n",
        "\n",
        "In case the dataset contains images with different number of channels, we should convert them from grayscale to RGB (or the other way round). When an image is in grayscale, its ```mode``` is `L`. Otherwise, the mode is `RGB`.\n",
        "\n",
        "We then converted the images to RGB and preprocessed them in the same loop."
      ]
    },
    {
      "cell_type": "code",
      "execution_count": null,
      "id": "5d55444c-60ec-4913-9771-93db4824b91d",
      "metadata": {
        "colab": {
          "base_uri": "https://localhost:8080/",
          "height": 49,
          "referenced_widgets": [
            "a840fa0cc94243dfa3e647d860c9b8fa",
            "4a40b41ba26e4c3eb0a974ae6ee96247",
            "3e19f531a18e43b9bb026139f3926ef6",
            "1e555881b6d6440ebba7715dcc442a0b",
            "7293433e1f7c474dbb6c610e6a598d5c",
            "e5f0826a9ca44cedafe6e16039d72d3a",
            "12c5988906324d8a8d8a8d99cc1ddf38",
            "2d9141f9456c496e9eb9cdf3f957c7c4",
            "fab5b168982940c2b484cd7a37e3897c",
            "02b16c894e6c4e2e9f5b924ac8808e22",
            "40b0de34e5a940d2988d3ddf9effaf7a"
          ]
        },
        "id": "5d55444c-60ec-4913-9771-93db4824b91d",
        "outputId": "39262034-a994-493a-f5e6-7f4bdf92bfcd"
      },
      "outputs": [
        {
          "output_type": "display_data",
          "data": {
            "text/plain": [
              "  0%|          | 0/500 [00:00<?, ?it/s]"
            ],
            "application/vnd.jupyter.widget-view+json": {
              "version_major": 2,
              "version_minor": 0,
              "model_id": "a840fa0cc94243dfa3e647d860c9b8fa"
            }
          },
          "metadata": {}
        }
      ],
      "source": [
        "from tqdm.auto import tqdm\n",
        "\n",
        "inputs_train = []\n",
        "\n",
        "for record in tqdm(dataset_train):\n",
        "    image = record['img']\n",
        "    label = record['label']\n",
        "\n",
        "    # convert from grayscale to RGB\n",
        "    if image.mode == 'L':\n",
        "        image = image.convert(\"RGB\")\n",
        "\n",
        "    # prepocessing\n",
        "    input_tensor = preprocess(image)\n",
        "\n",
        "    # append to batch list\n",
        "    inputs_train.append([input_tensor, label])"
      ]
    },
    {
      "cell_type": "code",
      "execution_count": null,
      "id": "3eaf6075",
      "metadata": {
        "id": "3eaf6075",
        "outputId": "14381f8f-dc07-4008-8d92-28add3dad74a",
        "colab": {
          "base_uri": "https://localhost:8080/"
        }
      },
      "outputs": [
        {
          "output_type": "stream",
          "name": "stdout",
          "text": [
            "500 torch.Size([3, 32, 32])\n"
          ]
        }
      ],
      "source": [
        "print(len(inputs_train), inputs_train[0][0].shape)"
      ]
    },
    {
      "cell_type": "markdown",
      "id": "34234565-ff48-4333-8070-2786f0a6873d",
      "metadata": {
        "id": "34234565-ff48-4333-8070-2786f0a6873d"
      },
      "source": [
        "Below we can see the result from the transformation."
      ]
    },
    {
      "cell_type": "code",
      "execution_count": null,
      "id": "69c256c0-8607-4d30-81ee-c7589e181eba",
      "metadata": {
        "colab": {
          "base_uri": "https://localhost:8080/"
        },
        "id": "69c256c0-8607-4d30-81ee-c7589e181eba",
        "outputId": "ac91295c-9400-449b-d942-512ff71b8e54"
      },
      "outputs": [
        {
          "output_type": "execute_result",
          "data": {
            "text/plain": [
              "[tensor([[[0.6980, 0.6980, 0.6980,  ..., 0.6667, 0.6588, 0.6471],\n",
              "          [0.7059, 0.7020, 0.7059,  ..., 0.6784, 0.6706, 0.6588],\n",
              "          [0.6941, 0.6941, 0.6980,  ..., 0.6706, 0.6627, 0.6549],\n",
              "          ...,\n",
              "          [0.4392, 0.4431, 0.4471,  ..., 0.3922, 0.3843, 0.3961],\n",
              "          [0.4392, 0.4392, 0.4431,  ..., 0.4000, 0.4000, 0.4000],\n",
              "          [0.4039, 0.3922, 0.4039,  ..., 0.3608, 0.3647, 0.3569]],\n",
              " \n",
              "         [[0.6902, 0.6902, 0.6902,  ..., 0.6588, 0.6510, 0.6392],\n",
              "          [0.6980, 0.6941, 0.6980,  ..., 0.6706, 0.6627, 0.6510],\n",
              "          [0.6863, 0.6863, 0.6902,  ..., 0.6627, 0.6549, 0.6471],\n",
              "          ...,\n",
              "          [0.4196, 0.4275, 0.4314,  ..., 0.3804, 0.3686, 0.3725],\n",
              "          [0.4000, 0.4039, 0.4039,  ..., 0.3725, 0.3647, 0.3608],\n",
              "          [0.3765, 0.3647, 0.3725,  ..., 0.3294, 0.3373, 0.3294]],\n",
              " \n",
              "         [[0.7412, 0.7412, 0.7412,  ..., 0.7059, 0.6941, 0.6824],\n",
              "          [0.7490, 0.7451, 0.7490,  ..., 0.7137, 0.7059, 0.6941],\n",
              "          [0.7373, 0.7373, 0.7412,  ..., 0.7059, 0.6980, 0.6902],\n",
              "          ...,\n",
              "          [0.4196, 0.4235, 0.4314,  ..., 0.3686, 0.3647, 0.3725],\n",
              "          [0.3961, 0.4000, 0.4039,  ..., 0.3647, 0.3569, 0.3569],\n",
              "          [0.3608, 0.3529, 0.3686,  ..., 0.3137, 0.3137, 0.3020]]]),\n",
              " 0]"
            ]
          },
          "metadata": {},
          "execution_count": 16
        }
      ],
      "source": [
        "inputs_train[0]"
      ]
    },
    {
      "cell_type": "markdown",
      "id": "f4daa892-7cad-4548-9cee-babf173ae32d",
      "metadata": {
        "id": "f4daa892-7cad-4548-9cee-babf173ae32d"
      },
      "source": [
        "The tensors are normalized to a \\[0, 1\\] range by the `preprocess` pipeline thanks to the `transforms.ToTensor()` function. We need to modify this normalization slightly to fit this specific dataset. To do this, we need the mean and standard deviation values for each of the RGB channels across all images.\n",
        "\n",
        "We calculate that like so:"
      ]
    },
    {
      "cell_type": "code",
      "execution_count": null,
      "id": "1a0a938f-49aa-4daf-a018-e33ae705308e",
      "metadata": {
        "colab": {
          "base_uri": "https://localhost:8080/"
        },
        "id": "1a0a938f-49aa-4daf-a018-e33ae705308e",
        "outputId": "cc3e1888-aa98-43b8-ae9b-59d320c09b95"
      },
      "outputs": [
        {
          "output_type": "execute_result",
          "data": {
            "text/plain": [
              "(512,)"
            ]
          },
          "metadata": {},
          "execution_count": 17
        }
      ],
      "source": [
        "import numpy as np\n",
        "\n",
        "np.random.seed(0)\n",
        "\n",
        "# calculate mean and std of images, first start by choosing a random sample of tensors\n",
        "idx = np.random.randint(0, len(inputs_train), 512)\n",
        "idx.shape"
      ]
    },
    {
      "cell_type": "code",
      "execution_count": null,
      "id": "7346e4a6-1dce-4e25-9f1c-b50841506947",
      "metadata": {
        "colab": {
          "base_uri": "https://localhost:8080/"
        },
        "id": "7346e4a6-1dce-4e25-9f1c-b50841506947",
        "outputId": "59710ec0-aa7f-4248-baa7-8fe50deaa6cc"
      },
      "outputs": [
        {
          "output_type": "execute_result",
          "data": {
            "text/plain": [
              "torch.Size([3, 16384, 32])"
            ]
          },
          "metadata": {},
          "execution_count": 18
        }
      ],
      "source": [
        "# then we concatenate this subset of image tensors\n",
        "tensors = torch.concat([inputs_train[i][0] for i in idx], axis=1)\n",
        "tensors.shape"
      ]
    },
    {
      "cell_type": "code",
      "execution_count": null,
      "id": "a0ac48ca-28d6-406b-bdcc-e90ec3cfa068",
      "metadata": {
        "colab": {
          "base_uri": "https://localhost:8080/"
        },
        "id": "a0ac48ca-28d6-406b-bdcc-e90ec3cfa068",
        "outputId": "88d5b961-0648-4464-b80f-195f0f88feab"
      },
      "outputs": [
        {
          "output_type": "execute_result",
          "data": {
            "text/plain": [
              "torch.Size([524288, 3])"
            ]
          },
          "metadata": {},
          "execution_count": 19
        }
      ],
      "source": [
        "# merge all values into single 3-channel vector\n",
        "tensors = tensors.swapaxes(0, 1).reshape(3, -1).T\n",
        "tensors.shape"
      ]
    },
    {
      "cell_type": "code",
      "execution_count": null,
      "id": "19c3a7f7-a4a5-4170-9809-118bbf0de5ad",
      "metadata": {
        "colab": {
          "base_uri": "https://localhost:8080/"
        },
        "id": "19c3a7f7-a4a5-4170-9809-118bbf0de5ad",
        "outputId": "fc90a5e8-4c93-45be-e7f3-b1c4daeeb9fb"
      },
      "outputs": [
        {
          "output_type": "execute_result",
          "data": {
            "text/plain": [
              "tensor([0.4840, 0.4761, 0.4984])"
            ]
          },
          "metadata": {},
          "execution_count": 20
        }
      ],
      "source": [
        "mean = torch.mean(tensors, axis=0)\n",
        "mean"
      ]
    },
    {
      "cell_type": "code",
      "execution_count": null,
      "id": "4a1552eb-38ca-4022-95e7-48290efaa8e4",
      "metadata": {
        "colab": {
          "base_uri": "https://localhost:8080/"
        },
        "id": "4a1552eb-38ca-4022-95e7-48290efaa8e4",
        "outputId": "bc97098d-9f68-40d5-99a5-64a63635b14c"
      },
      "outputs": [
        {
          "output_type": "execute_result",
          "data": {
            "text/plain": [
              "tensor([0.2548, 0.2517, 0.2540])"
            ]
          },
          "metadata": {},
          "execution_count": 21
        }
      ],
      "source": [
        "std = torch.std(tensors, axis=0)\n",
        "std"
      ]
    },
    {
      "cell_type": "code",
      "execution_count": null,
      "id": "5eb0368f-23c4-4f36-a6a2-14438fdec124",
      "metadata": {
        "id": "5eb0368f-23c4-4f36-a6a2-14438fdec124"
      },
      "outputs": [],
      "source": [
        "del tensors"
      ]
    },
    {
      "cell_type": "markdown",
      "id": "9f6d4ae1-69a6-4f98-b457-f2c43093bb38",
      "metadata": {
        "id": "9f6d4ae1-69a6-4f98-b457-f2c43093bb38"
      },
      "source": [
        "Now we use the `mean` $[0.4670, 0.4735, 0.4662]$ and `std` $[0.2496, 0.2489, 0.2521]$ to normalize via another preprocessing step."
      ]
    },
    {
      "cell_type": "code",
      "execution_count": null,
      "id": "81cfbe6a-05fc-40c3-9136-dcecc7c36840",
      "metadata": {
        "colab": {
          "base_uri": "https://localhost:8080/",
          "height": 49,
          "referenced_widgets": [
            "a173ae03e36b44949223369e84580a1d",
            "fcb6b0c904f34506ad4d1b865911ae49",
            "7c9f120bb2e04bf680c272856db03711",
            "45d77d148cfb41efae2db6117c85d592",
            "724aeaa1efa34de2836706a03e337964",
            "c6a3438ceb884bfb97a534e3cc2cc27d",
            "aeb624b89eca4986a48cda6761694da7",
            "d52823d72e0941a7aa4e8bfc5f5ef1e2",
            "682abd1fab4e4b6f9b3fda0c609a4c97",
            "4ca62cb6059d45cc96f9073908652335",
            "12a8f66a7c0b41faa2559a388c81984f"
          ]
        },
        "id": "81cfbe6a-05fc-40c3-9136-dcecc7c36840",
        "outputId": "1e4aba04-4880-400c-d516-afd7facf3d88"
      },
      "outputs": [
        {
          "output_type": "display_data",
          "data": {
            "text/plain": [
              "  0%|          | 0/500 [00:00<?, ?it/s]"
            ],
            "application/vnd.jupyter.widget-view+json": {
              "version_major": 2,
              "version_minor": 0,
              "model_id": "a173ae03e36b44949223369e84580a1d"
            }
          },
          "metadata": {}
        }
      ],
      "source": [
        "preprocess = transforms.Compose([transforms.Normalize(mean=mean, std=std)])\n",
        "\n",
        "for i in tqdm(range(len(inputs_train))):\n",
        "    # prepocessing\n",
        "    input_tensor = preprocess(inputs_train[i][0])\n",
        "    inputs_train[i][0] = input_tensor  # replace with normalized tensor"
      ]
    },
    {
      "cell_type": "markdown",
      "id": "e1c55406-6f60-427e-b9dc-1f040d49c286",
      "metadata": {
        "id": "e1c55406-6f60-427e-b9dc-1f040d49c286"
      },
      "source": [
        "We can merge the preprocessing steps as follows,"
      ]
    },
    {
      "cell_type": "code",
      "execution_count": null,
      "id": "88dd5eb8-33cb-48b6-9021-b979ec6ac102",
      "metadata": {
        "id": "88dd5eb8-33cb-48b6-9021-b979ec6ac102"
      },
      "outputs": [],
      "source": [
        "# merge the two preprocessing steps from before\n",
        "preprocess = transforms.Compose([\n",
        "    transforms.Resize((img_size,img_size)),\n",
        "    transforms.ToTensor(),\n",
        "    transforms.Normalize(mean=mean, std=std)\n",
        "])"
      ]
    },
    {
      "cell_type": "markdown",
      "id": "0692ef00-7f2a-4917-9c90-21cc09bc8588",
      "metadata": {
        "id": "0692ef00-7f2a-4917-9c90-21cc09bc8588"
      },
      "source": [
        "and we can apply the same transformation to the validation set."
      ]
    },
    {
      "cell_type": "code",
      "execution_count": null,
      "id": "931fa393-df08-4d54-95d6-0e2b4047d29c",
      "metadata": {
        "colab": {
          "base_uri": "https://localhost:8080/",
          "height": 49,
          "referenced_widgets": [
            "68247cfd3d1a4c55905aa8a918ac2599",
            "693f8465e9a24ea8bbf5ea1e723e9113",
            "6b5e2e3f2eff483687eb3e67ac75ebeb",
            "26c5759950e842ad815b63f8451b07d0",
            "e18eb6499f594d0c86b99c06421a0001",
            "a08a2e74eb85499abd9b4510310253ba",
            "dcdd29f488a44d0daf3f30ee584dc2b3",
            "b5e6563adf504653a55dedcef34dea0a",
            "ac2fa955ec0d4590992a810ca1461e04",
            "f16a1e372b044c82b04798d9bd1570f4",
            "16d9363cfa0e407aa40e4482d5e2bed5"
          ]
        },
        "id": "931fa393-df08-4d54-95d6-0e2b4047d29c",
        "outputId": "1b940a73-7212-47dc-dd50-3b0fcb0888f3"
      },
      "outputs": [
        {
          "output_type": "display_data",
          "data": {
            "text/plain": [
              "  0%|          | 0/100 [00:00<?, ?it/s]"
            ],
            "application/vnd.jupyter.widget-view+json": {
              "version_major": 2,
              "version_minor": 0,
              "model_id": "68247cfd3d1a4c55905aa8a918ac2599"
            }
          },
          "metadata": {}
        }
      ],
      "source": [
        "from tqdm.auto import tqdm\n",
        "\n",
        "inputs_val = []\n",
        "i = 0\n",
        "for record in tqdm(dataset_val):\n",
        "    image = record['img']\n",
        "    label = record['label']\n",
        "\n",
        "    # convert from grayscale to RBG\n",
        "    if image.mode == 'L':\n",
        "        image = image.convert(\"RGB\")\n",
        "\n",
        "    # prepocessing\n",
        "    input_tensor = preprocess(image)\n",
        "    inputs_val.append((input_tensor, label)) # append to batch list"
      ]
    },
    {
      "cell_type": "markdown",
      "id": "28b242ba-7621-4eae-a16c-b0d52a1e8418",
      "metadata": {
        "id": "28b242ba-7621-4eae-a16c-b0d52a1e8418"
      },
      "source": [
        "Given the amount of data, we would improve the efficiency of our model by running it in batches. We can set the batch size to $64$."
      ]
    },
    {
      "cell_type": "code",
      "execution_count": null,
      "id": "1391456a-1ba6-42ab-9782-d1758e1fc849",
      "metadata": {
        "id": "1391456a-1ba6-42ab-9782-d1758e1fc849"
      },
      "outputs": [],
      "source": [
        "# define batch size\n",
        "batch_size = 64"
      ]
    },
    {
      "cell_type": "markdown",
      "id": "b054f679-71f8-439c-9d29-6c63ae876d94",
      "metadata": {
        "id": "b054f679-71f8-439c-9d29-6c63ae876d94"
      },
      "source": [
        "We can then use ```DataLoader``` to split both the training and validation dataset into shuffled batches. Shuffle helps prevent model overfitting by ensuring that batches are more representative of the entire dataset."
      ]
    },
    {
      "cell_type": "code",
      "execution_count": null,
      "id": "a1a68ebd-6fe9-4e00-8471-4ff5174277ff",
      "metadata": {
        "id": "a1a68ebd-6fe9-4e00-8471-4ff5174277ff"
      },
      "outputs": [],
      "source": [
        "dloader_train = torch.utils.data.DataLoader(\n",
        "    inputs_train, batch_size=batch_size, shuffle=True\n",
        ")"
      ]
    },
    {
      "cell_type": "code",
      "execution_count": null,
      "id": "8d4f6f12-de4c-4f2b-948b-e64466dbcb2b",
      "metadata": {
        "id": "8d4f6f12-de4c-4f2b-948b-e64466dbcb2b"
      },
      "outputs": [],
      "source": [
        "dloader_val = torch.utils.data.DataLoader(\n",
        "    inputs_val, batch_size=batch_size, shuffle=False\n",
        ")"
      ]
    },
    {
      "cell_type": "markdown",
      "id": "4a694096-4a99-49a5-9fae-76c826282ee6",
      "metadata": {
        "id": "4a694096-4a99-49a5-9fae-76c826282ee6"
      },
      "source": [
        "#### Building the CNN's Structure/Architecture"
      ]
    },
    {
      "cell_type": "markdown",
      "id": "09ef12b6-9cf6-4345-814b-05f231e2b5a6",
      "metadata": {
        "id": "09ef12b6-9cf6-4345-814b-05f231e2b5a6"
      },
      "source": [
        "We can now start building our cnn by generating the `ConvNeuralNet` class and the `forward` function. The `ConvNeuralNet` class defines the elements inside our network. The `forward` function establishes their order:\n",
        "\n",
        "- The first two blocks of layers are composed of a convolutional layer followed by a max-pooling layer. After each convolutional layer, we added non-linearity using the ReLU activation function.\n",
        "\n",
        "- The following two blocks of layers are composed of a convolutional layer followed by the ReLU activation function.\n",
        "\n",
        "- We then have another block composed of one convolutional layer, followed by the ReLU, followed by the max pooling layer.\n",
        "\n",
        "At each block, the images are downsampled by the max-pooling layer. Contrary, the number of channels from one layer to another increased from $3$ to $64$, to $192$, ..., to $256$. As we learned before, deeper layers have larger receptive fields and generally detect more specific and complex features, such as ears, eyes, or even human faces and dogs. The chosen filter (or kernel) size is either $3$ or $4$. This is a common choice - having a smaller filter allows the network to better generalize. Padding is $1$ pixel on each layer.\n",
        "\n",
        "- In the end, we have three fully-connected layers. The first two are activated using the ReLU, and the last one uses the Softmax.\n",
        "\n",
        "Note that we added `dropout`. It randomly zeroes (or \"drops out\") some of the elements of the input tensor with a probability $p = 25\\%$. This has proven to be an effective technique for regularization and preventing the co-adaptation of neurons as described in the paper Improving neural networks by preventing co-adaptation of feature detectors [1].\n",
        "\n",
        "\n",
        "We can represent our network as follows:\n",
        "\n",
        "[image]"
      ]
    },
    {
      "cell_type": "code",
      "execution_count": null,
      "id": "d41b3a3d-34fc-42f2-8fd1-fd1c4cd09b22",
      "metadata": {
        "id": "d41b3a3d-34fc-42f2-8fd1-fd1c4cd09b22"
      },
      "outputs": [],
      "source": [
        "# creating a CNN class\n",
        "class ConvNeuralNet(nn.Module):\n",
        "\t#  determine what layers and their order in CNN object\n",
        "    def __init__(self, num_classes):\n",
        "        super(ConvNeuralNet, self).__init__()\n",
        "        self.conv_layer1 = nn.Conv2d(in_channels=3, out_channels=64, kernel_size=4, padding=1)\n",
        "        self.relu1 = nn.ReLU()\n",
        "        self.max_pool1 = nn.MaxPool2d(kernel_size=3, stride=2)\n",
        "\n",
        "        self.conv_layer2 = nn.Conv2d(in_channels=64, out_channels=192, kernel_size=4, padding=1)\n",
        "        self.relu2 = nn.ReLU()\n",
        "        self.max_pool2 = nn.MaxPool2d(kernel_size=3, stride=2)\n",
        "\n",
        "        self.conv_layer3 = nn.Conv2d(in_channels=192, out_channels=384, kernel_size=3, padding=1)\n",
        "        self.relu3 = nn.ReLU()\n",
        "\n",
        "        self.conv_layer4 = nn.Conv2d(in_channels=384, out_channels=256, kernel_size=3, padding=1)\n",
        "        self.relu4 = nn.ReLU()\n",
        "\n",
        "        self.conv_layer5 = nn.Conv2d(in_channels=256, out_channels=256, kernel_size=3, padding=1)\n",
        "        self.relu5 = nn.ReLU()\n",
        "        self.max_pool5 = nn.MaxPool2d(kernel_size=3, stride=2)\n",
        "\n",
        "        self.dropout6 = nn.Dropout(p=0.5)\n",
        "        self.fc6 = nn.Linear(1024, 512)\n",
        "        self.relu6 = nn.ReLU()\n",
        "        self.dropout7 = nn.Dropout(p=0.5)\n",
        "        self.fc7 = nn.Linear(512, 256)\n",
        "        self.relu7 = nn.ReLU()\n",
        "        self.fc8 = nn.Linear(256, num_classes)\n",
        "\n",
        "    # progresses data across layers\n",
        "    def forward(self, x):\n",
        "        out = self.conv_layer1(x)\n",
        "        out = self.relu1(out)\n",
        "        out = self.max_pool1(out)\n",
        "\n",
        "        out = self.conv_layer2(out)\n",
        "        out = self.relu2(out)\n",
        "        out = self.max_pool2(out)\n",
        "\n",
        "        out = self.conv_layer3(out)\n",
        "        out = self.relu3(out)\n",
        "\n",
        "        out = self.conv_layer4(out)\n",
        "        out = self.relu4(out)\n",
        "\n",
        "        out = self.conv_layer5(out)\n",
        "        out = self.relu5(out)\n",
        "        out = self.max_pool5(out)\n",
        "\n",
        "        out = out.reshape(out.size(0), -1)\n",
        "\n",
        "        out = self.dropout6(out)\n",
        "        out = self.fc6(out)\n",
        "        out = self.relu6(out)\n",
        "\n",
        "        out = self.dropout7(out)\n",
        "        out = self.fc7(out)\n",
        "        out = self.relu7(out)\n",
        "\n",
        "        out = self.fc8(out)  # final logits\n",
        "        return out"
      ]
    },
    {
      "cell_type": "markdown",
      "id": "202dbd79-0a54-4a06-84c3-036b9b4b7550",
      "metadata": {
        "id": "202dbd79-0a54-4a06-84c3-036b9b4b7550"
      },
      "source": [
        "After setting the architecture of our network, we can define the loss function, which is calculated after the forward propagation. We will then define the optimization methodology to run the backpropagation.\n",
        "\n",
        "The loss function used is cross-entropy.\n",
        "\n",
        "The model optimization is run using the stochastic gradient descent (SGD) method with a learning rate equal to $0.008$. Training under SGD, the network is forced to learn to extract features from the image that minimize the loss for extracting features that are the most useful for classifying or recognising images.\n",
        "The learning rate can be chosen randomly by running the model using different values and selecting the one that gives the best performance."
      ]
    },
    {
      "cell_type": "code",
      "execution_count": null,
      "id": "f37c0a86-e5bb-466c-b7d4-714d731dcaa3",
      "metadata": {
        "id": "f37c0a86-e5bb-466c-b7d4-714d731dcaa3"
      },
      "outputs": [],
      "source": [
        "# set the model to device\n",
        "model = ConvNeuralNet(num_classes).to(device)\n",
        "\n",
        "# set Loss function with criterion\n",
        "loss_func = nn.CrossEntropyLoss()\n",
        "\n",
        "# set learning rate\n",
        "lr = 0.008  # 0.0001\n",
        "\n",
        "# set optimizer with optimizer\n",
        "optimizer = torch.optim.SGD(model.parameters(), lr=lr)\n",
        "#total_step = len(dloader)"
      ]
    },
    {
      "cell_type": "markdown",
      "id": "4ffd8888-9195-4463-aa83-aa93ed4a585d",
      "metadata": {
        "id": "4ffd8888-9195-4463-aa83-aa93ed4a585d"
      },
      "source": [
        "We are now ready to train our model with the forward and the backward propagation in batches. We are now using the `device` variable created above to move the data to GPU, if possible.\n",
        "\n",
        "We have set the times the learning algorithm will work through the entire training dataset (epochs) to 50. As per the learning rate, there is no rule for choosing this value. You can run the model many times with different values and choose the one with the sufficiently minimized error.\n",
        "\n",
        "It is also essential to not choose a number of `epochs` (or `lr`) that causes the model to overfit the training set. To check this, we include a pass through the validation set after each epoch, calculating the val-loss and val-accuracy. If we see the validation set performance degrades while train loss decreases, the model is likely overfitting."
      ]
    },
    {
      "cell_type": "code",
      "execution_count": null,
      "id": "3027a649-cd51-4c79-a672-2d6d372c1873",
      "metadata": {
        "tags": [],
        "id": "3027a649-cd51-4c79-a672-2d6d372c1873",
        "colab": {
          "base_uri": "https://localhost:8080/"
        },
        "outputId": "6ec37b6d-c199-4158-e30b-5cc5b5d9844a"
      },
      "outputs": [
        {
          "output_type": "stream",
          "name": "stdout",
          "text": [
            "Epoch [1/10], Loss: 2.2999, Val-loss: 2.3086, Val-acc: 7.0%\n",
            "Epoch [2/10], Loss: 2.2925, Val-loss: 2.3088, Val-acc: 7.0%\n",
            "Epoch [3/10], Loss: 2.3043, Val-loss: 2.3089, Val-acc: 7.0%\n",
            "Epoch [4/10], Loss: 2.3071, Val-loss: 2.3091, Val-acc: 7.0%\n",
            "Epoch [5/10], Loss: 2.3086, Val-loss: 2.3092, Val-acc: 7.0%\n",
            "Epoch [6/10], Loss: 2.3074, Val-loss: 2.3093, Val-acc: 7.0%\n",
            "Epoch [7/10], Loss: 2.2973, Val-loss: 2.3095, Val-acc: 7.0%\n",
            "Epoch [8/10], Loss: 2.3015, Val-loss: 2.3096, Val-acc: 7.0%\n",
            "Epoch [9/10], Loss: 2.3000, Val-loss: 2.3098, Val-acc: 7.0%\n",
            "Epoch [10/10], Loss: 2.2929, Val-loss: 2.3099, Val-acc: 7.0%\n"
          ]
        }
      ],
      "source": [
        "# train and validate the network\n",
        "num_epochs = 10\n",
        "for epoch in range(num_epochs):\n",
        "    model.train()\n",
        "\t# load in the data in batches\n",
        "    for i, (images, labels) in enumerate(dloader_train):\n",
        "        # move tensors to the configured device\n",
        "        images = images.to(device)\n",
        "        labels = labels.to(device)\n",
        "\n",
        "        # forward propagation\n",
        "        outputs = model(images)\n",
        "        loss = loss_func(outputs, labels)\n",
        "\n",
        "        # backward propagation and optimize\n",
        "        optimizer.zero_grad()\n",
        "        loss.backward()\n",
        "        optimizer.step()\n",
        "\n",
        "    # at end of epoch check validation loss and accuracy on validation set\n",
        "    with torch.no_grad():\n",
        "        model.eval()\n",
        "        correct = 0\n",
        "        total = 0\n",
        "        all_val_loss = []\n",
        "        for images, labels in dloader_val:\n",
        "            images = images.to(device)\n",
        "            labels = labels.to(device)\n",
        "            outputs = model(images)\n",
        "            total += labels.size(0)\n",
        "            # calculate predictions\n",
        "            predicted = torch.argmax(outputs, dim=1)\n",
        "            # calculate actual values\n",
        "            correct += (predicted == labels).sum().item()\n",
        "            # calculate the loss\n",
        "            all_val_loss.append(loss_func(outputs, labels).item())\n",
        "        # calculate val-loss\n",
        "        mean_val_loss = sum(all_val_loss) / len(all_val_loss)\n",
        "        # calculate val-accuracy\n",
        "        mean_val_acc = 100 * (correct / total)\n",
        "\n",
        "    print(\n",
        "        'Epoch [{}/{}], Loss: {:.4f}, Val-loss: {:.4f}, Val-acc: {:.1f}%'.format(\n",
        "            epoch+1, num_epochs, loss.item(), mean_val_loss, mean_val_acc\n",
        "        )\n",
        "    )"
      ]
    },
    {
      "cell_type": "markdown",
      "id": "6c310d89-2083-482b-a9f4-bf59041de8c2",
      "metadata": {
        "id": "6c310d89-2083-482b-a9f4-bf59041de8c2"
      },
      "source": [
        "The network is now trained and tested! The network validation accuracy is $79.4\\%$. We can go ahead and save the model to file."
      ]
    },
    {
      "cell_type": "code",
      "source": [
        "# Mount Google Drive\n",
        "from google.colab import drive\n",
        "drive.mount('/content/drive')\n",
        "\n",
        "# Navigate to Project Folder\n",
        "%cd /content/drive/MyDrive/02 - Project/02_ML_WORKS\n",
        "# %mkdir \"Trained Model\"\n",
        "!dir\n",
        "\n"
      ],
      "metadata": {
        "colab": {
          "base_uri": "https://localhost:8080/"
        },
        "id": "x9mgX-Ldm3Ld",
        "outputId": "5f80ebaa-4df9-4aa2-a787-ac721e5cf868"
      },
      "id": "x9mgX-Ldm3Ld",
      "execution_count": 45,
      "outputs": [
        {
          "output_type": "stream",
          "name": "stdout",
          "text": [
            "Drive already mounted at /content/drive; to attempt to forcibly remount, call drive.mount(\"/content/drive\", force_remount=True).\n",
            "/content/drive/MyDrive/02 - Project/02_ML_WORKS\n",
            "Trained\\ Model\n"
          ]
        }
      ]
    },
    {
      "cell_type": "code",
      "execution_count": null,
      "id": "05989bae",
      "metadata": {
        "id": "05989bae"
      },
      "outputs": [],
      "source": [
        "# Save Trained Model Within our drive folder\n",
        "torch.save(model, '/content/drive/MyDrive/02 - Project/02_ML_WORKS/Trained Modelcnn.pt')"
      ]
    },
    {
      "cell_type": "markdown",
      "id": "fb707d56-7c01-47d1-a06d-cfb2bcac2e4c",
      "metadata": {
        "id": "fb707d56-7c01-47d1-a06d-cfb2bcac2e4c"
      },
      "source": [
        "---\n",
        "\n",
        "# Inference\n",
        "\n",
        "Now we will look at how to make predictions with the model. We start by loading the model from file:"
      ]
    },
    {
      "cell_type": "code",
      "execution_count": null,
      "id": "de3b2496",
      "metadata": {
        "id": "de3b2496",
        "outputId": "267c7f20-43e2-4cc2-b155-8494d2b207ca",
        "colab": {
          "base_uri": "https://localhost:8080/"
        }
      },
      "outputs": [
        {
          "output_type": "stream",
          "name": "stdout",
          "text": [
            "xla:1\n"
          ]
        }
      ],
      "source": [
        "import torch\n",
        "\n",
        "model = torch.load('cnn.pt')\n",
        "# switch to evaluation mode and device\n",
        "model.eval().to(device)\n",
        "print(device)"
      ]
    },
    {
      "cell_type": "markdown",
      "id": "73553acc-9fb3-41e5-ba2a-dd575f58a14e",
      "metadata": {
        "id": "73553acc-9fb3-41e5-ba2a-dd575f58a14e"
      },
      "source": [
        "We will reinitialize the CIFAR-10 test set to similate a typical scenario where we would need to reload everything. Ideally we would not use the validation set as a test set."
      ]
    },
    {
      "cell_type": "code",
      "execution_count": null,
      "id": "7463c3a9-33e5-4917-8f56-dbbbe55ab4af",
      "metadata": {
        "id": "7463c3a9-33e5-4917-8f56-dbbbe55ab4af",
        "outputId": "e84a10fa-0d10-4ad9-b030-51af340555c7",
        "colab": {
          "base_uri": "https://localhost:8080/"
        }
      },
      "outputs": [
        {
          "output_type": "stream",
          "name": "stderr",
          "text": [
            "WARNING:datasets.builder:Found cached dataset cifar10 (/root/.cache/huggingface/datasets/cifar10/plain_text/1.0.0/447d6ec4733dddd1ce3bb577c7166b986eaa4c538dcd9e805ba61f35674a9de4)\n"
          ]
        },
        {
          "output_type": "execute_result",
          "data": {
            "text/plain": [
              "Dataset({\n",
              "    features: ['img', 'label'],\n",
              "    num_rows: 10000\n",
              "})"
            ]
          },
          "metadata": {},
          "execution_count": 34
        }
      ],
      "source": [
        "# import CIFAR-10 dataset from HuggingFace\n",
        "from datasets import load_dataset\n",
        "\n",
        "data_test = load_dataset(\n",
        "    'cifar10',\n",
        "    split='test'  # test set\n",
        ")\n",
        "data_test"
      ]
    },
    {
      "cell_type": "code",
      "execution_count": null,
      "id": "b144865d-c66d-4121-8925-a84cdb6574f0",
      "metadata": {
        "id": "b144865d-c66d-4121-8925-a84cdb6574f0"
      },
      "outputs": [],
      "source": [
        "input_tensors = []\n",
        "for image in data_test['img'][:10]:\n",
        "    tensor = preprocess(image)\n",
        "    input_tensors.append(tensor.to(device))"
      ]
    },
    {
      "cell_type": "code",
      "execution_count": null,
      "id": "2d315e65-658b-4fa3-8c96-93eb9a05a8fe",
      "metadata": {
        "id": "2d315e65-658b-4fa3-8c96-93eb9a05a8fe",
        "outputId": "7bdb06bc-9fe8-43e7-855e-62ee835e993e",
        "colab": {
          "base_uri": "https://localhost:8080/"
        }
      },
      "outputs": [
        {
          "output_type": "execute_result",
          "data": {
            "text/plain": [
              "10"
            ]
          },
          "metadata": {},
          "execution_count": 36
        }
      ],
      "source": [
        "# we have 10 tensors\n",
        "len(input_tensors)"
      ]
    },
    {
      "cell_type": "code",
      "execution_count": null,
      "id": "d12e0287-5d66-44a4-8a19-144fb5dba9c5",
      "metadata": {
        "id": "d12e0287-5d66-44a4-8a19-144fb5dba9c5",
        "outputId": "2788f603-7949-4fa8-8b6d-efa785e3072b",
        "colab": {
          "base_uri": "https://localhost:8080/"
        }
      },
      "outputs": [
        {
          "output_type": "execute_result",
          "data": {
            "text/plain": [
              "torch.Size([3, 32, 32])"
            ]
          },
          "metadata": {},
          "execution_count": 37
        }
      ],
      "source": [
        "# all 32x32 dimensional with 3 color channels\n",
        "input_tensors[0].shape"
      ]
    },
    {
      "cell_type": "markdown",
      "id": "16ed9a7e-85cb-4c8b-9dd3-a878d2478437",
      "metadata": {
        "id": "16ed9a7e-85cb-4c8b-9dd3-a878d2478437"
      },
      "source": [
        "We stack these into a single tensor."
      ]
    },
    {
      "cell_type": "code",
      "execution_count": null,
      "id": "225dfd48-5a59-4b09-9e71-a0b7be377676",
      "metadata": {
        "id": "225dfd48-5a59-4b09-9e71-a0b7be377676",
        "outputId": "a462f860-7c40-4df5-f2ec-02dea3fe0583",
        "colab": {
          "base_uri": "https://localhost:8080/"
        }
      },
      "outputs": [
        {
          "output_type": "execute_result",
          "data": {
            "text/plain": [
              "torch.Size([10, 3, 32, 32])"
            ]
          },
          "metadata": {},
          "execution_count": 38
        }
      ],
      "source": [
        "# stack into a single tensor\n",
        "input_tensors = torch.stack(input_tensors)\n",
        "input_tensors.shape"
      ]
    },
    {
      "cell_type": "code",
      "execution_count": null,
      "id": "7c1a6d62-96f1-4436-8175-7e98788f8aa8",
      "metadata": {
        "id": "7c1a6d62-96f1-4436-8175-7e98788f8aa8",
        "outputId": "0b5eccfc-33a0-458a-fec3-29306d39bb3f",
        "colab": {
          "base_uri": "https://localhost:8080/"
        }
      },
      "outputs": [
        {
          "output_type": "execute_result",
          "data": {
            "text/plain": [
              "tensor([4, 4, 4, 4, 4, 4, 4, 4, 4, 4], device='xla:1')"
            ]
          },
          "metadata": {},
          "execution_count": 39
        }
      ],
      "source": [
        "# process through model to get output logits\n",
        "outputs = model(input_tensors)\n",
        "# calculate predictions\n",
        "predicted = torch.argmax(outputs, dim=1)\n",
        "predicted"
      ]
    },
    {
      "cell_type": "code",
      "execution_count": null,
      "id": "476f030e-3da1-40ac-a935-1a2961d8da2a",
      "metadata": {
        "id": "476f030e-3da1-40ac-a935-1a2961d8da2a",
        "outputId": "2e95a77b-efc0-4ca0-8a15-7cc183f39d8c",
        "colab": {
          "base_uri": "https://localhost:8080/"
        }
      },
      "outputs": [
        {
          "output_type": "execute_result",
          "data": {
            "text/plain": [
              "torch.Size([10])"
            ]
          },
          "metadata": {},
          "execution_count": 40
        }
      ],
      "source": [
        "predicted.shape"
      ]
    },
    {
      "cell_type": "code",
      "execution_count": null,
      "id": "b15f4b77-8670-4c2d-b8e5-9d19d6b94da5",
      "metadata": {
        "id": "b15f4b77-8670-4c2d-b8e5-9d19d6b94da5",
        "outputId": "850b048a-0d69-4a51-b432-f0f7878e9579",
        "colab": {
          "base_uri": "https://localhost:8080/"
        }
      },
      "outputs": [
        {
          "output_type": "execute_result",
          "data": {
            "text/plain": [
              "['airplane',\n",
              " 'automobile',\n",
              " 'bird',\n",
              " 'cat',\n",
              " 'deer',\n",
              " 'dog',\n",
              " 'frog',\n",
              " 'horse',\n",
              " 'ship',\n",
              " 'truck']"
            ]
          },
          "metadata": {},
          "execution_count": 41
        }
      ],
      "source": [
        "# here are the class names\n",
        "data_test.features['label'].names"
      ]
    },
    {
      "cell_type": "code",
      "execution_count": null,
      "id": "9be8f514-150f-4700-98e7-7968fc54f6c7",
      "metadata": {
        "id": "9be8f514-150f-4700-98e7-7968fc54f6c7",
        "outputId": "bec3cea7-8b37-4507-b4bc-0a0a0850177c",
        "colab": {
          "base_uri": "https://localhost:8080/"
        }
      },
      "outputs": [
        {
          "output_type": "execute_result",
          "data": {
            "text/plain": [
              "8"
            ]
          },
          "metadata": {},
          "execution_count": 42
        }
      ],
      "source": [
        "data_test[1]['label']"
      ]
    },
    {
      "cell_type": "code",
      "execution_count": null,
      "id": "4b4ebfdc-c24f-4e6f-9437-38a1694d0943",
      "metadata": {
        "id": "4b4ebfdc-c24f-4e6f-9437-38a1694d0943",
        "outputId": "d6813ed3-99ad-42a6-a098-c3637d47d269",
        "colab": {
          "base_uri": "https://localhost:8080/",
          "height": 1000
        }
      },
      "outputs": [
        {
          "output_type": "display_data",
          "data": {
            "text/plain": [
              "<Figure size 640x480 with 1 Axes>"
            ],
            "image/png": "[encoded data removed]"
          },
          "metadata": {}
        },
        {
          "output_type": "stream",
          "name": "stdout",
          "text": [
            "deer\n"
          ]
        },
        {
          "output_type": "display_data",
          "data": {
            "text/plain": [
              "<Figure size 640x480 with 1 Axes>"
            ],
            "image/png": "[encoded data removed]"
          },
          "metadata": {}
        },
        {
          "output_type": "stream",
          "name": "stdout",
          "text": [
            "deer\n"
          ]
        },
        {
          "output_type": "display_data",
          "data": {
            "text/plain": [
              "<Figure size 640x480 with 1 Axes>"
            ],
            "image/png": "[encoded data removed]"
          },
          "metadata": {}
        },
        {
          "output_type": "stream",
          "name": "stdout",
          "text": [
            "deer\n"
          ]
        },
        {
          "output_type": "display_data",
          "data": {
            "text/plain": [
              "<Figure size 640x480 with 1 Axes>"
            ],
            "image/png": "[encoded data removed]"
          },
          "metadata": {}
        },
        {
          "output_type": "stream",
          "name": "stdout",
          "text": [
            "deer\n"
          ]
        },
        {
          "output_type": "display_data",
          "data": {
            "text/plain": [
              "<Figure size 640x480 with 1 Axes>"
            ],
            "image/png": "[encoded data removed]"
          },
          "metadata": {}
        },
        {
          "output_type": "stream",
          "name": "stdout",
          "text": [
            "deer\n"
          ]
        },
        {
          "output_type": "display_data",
          "data": {
            "text/plain": [
              "<Figure size 640x480 with 1 Axes>"
            ],
            "image/png": "[encoded data removed]"
          },
          "metadata": {}
        },
        {
          "output_type": "stream",
          "name": "stdout",
          "text": [
            "deer\n"
          ]
        },
        {
          "output_type": "display_data",
          "data": {
            "text/plain": [
              "<Figure size 640x480 with 1 Axes>"
            ],
            "image/png": "[encoded data removed]"
          },
          "metadata": {}
        },
        {
          "output_type": "stream",
          "name": "stdout",
          "text": [
            "deer\n"
          ]
        },
        {
          "output_type": "display_data",
          "data": {
            "text/plain": [
              "<Figure size 640x480 with 1 Axes>"
            ],
            "image/png": "[encoded data removed]"
          },
          "metadata": {}
        },
        {
          "output_type": "stream",
          "name": "stdout",
          "text": [
            "deer\n"
          ]
        },
        {
          "output_type": "display_data",
          "data": {
            "text/plain": [
              "<Figure size 640x480 with 1 Axes>"
            ],
            "image/png": "[encoded data removed]"
          },
          "metadata": {}
        },
        {
          "output_type": "stream",
          "name": "stdout",
          "text": [
            "deer\n"
          ]
        },
        {
          "output_type": "display_data",
          "data": {
            "text/plain": [
              "<Figure size 640x480 with 1 Axes>"
            ],
            "image/png": "[encoded data removed]"
          },
          "metadata": {}
        },
        {
          "output_type": "stream",
          "name": "stdout",
          "text": [
            "deer\n"
          ]
        }
      ],
      "source": [
        "import matplotlib.pyplot as plt\n",
        "\n",
        "for i, image in enumerate(data_test['img'][:10]):\n",
        "    plt.imshow(image)\n",
        "    plt.show()\n",
        "    print(data_test.features['label'].names[predicted[i]])"
      ]
    },
    {
      "cell_type": "markdown",
      "id": "a4aca325-39d3-4289-a616-3e09f7704590",
      "metadata": {
        "id": "a4aca325-39d3-4289-a616-3e09f7704590"
      },
      "source": [
        "Most of these predictions look correct, despite being very low resolution images."
      ]
    },
    {
      "cell_type": "markdown",
      "id": "f29b2684-2626-4027-9ecf-28779b17ac67",
      "metadata": {
        "id": "f29b2684-2626-4027-9ecf-28779b17ac67"
      },
      "source": [
        "---"
      ]
    }
  ],
  "metadata": {
    "environment": {
      "kernel": "python3",
      "name": "common-cu110.m95",
      "type": "gcloud",
      "uri": "gcr.io/deeplearning-platform-release/base-cu110:m95"
    },
    "kernelspec": {
      "display_name": "Python 3",
      "name": "python3"
    },
    "language_info": {
      "codemirror_mode": {
        "name": "ipython",
        "version": 3
      },
      "file_extension": ".py",
      "mimetype": "text/x-python",
      "name": "python",
      "nbconvert_exporter": "python",
      "pygments_lexer": "ipython3",
      "version": "3.8.13 (default, Mar 28 2022, 06:59:08) [MSC v.1916 64 bit (AMD64)]"
    },
    "vscode": {
      "interpreter": {
        "hash": "5fe10bf018ef3e697f9035d60bf60847932a12bface18908407fd371fe880db9"
      }
    },
    "colab": {
      "provenance": [],
      "gpuType": "T4"
    },
    "accelerator": "TPU",
    "widgets": {
      "application/vnd.jupyter.widget-state+json": {
        "a840fa0cc94243dfa3e647d860c9b8fa": {
          "model_module": "@jupyter-widgets/controls",
          "model_name": "HBoxModel",
          "model_module_version": "1.5.0",
          "state": {
            "_dom_classes": [],
            "_model_module": "@jupyter-widgets/controls",
            "_model_module_version": "1.5.0",
            "_model_name": "HBoxModel",
            "_view_count": null,
            "_view_module": "@jupyter-widgets/controls",
            "_view_module_version": "1.5.0",
            "_view_name": "HBoxView",
            "box_style": "",
            "children": [
              "IPY_MODEL_4a40b41ba26e4c3eb0a974ae6ee96247",
              "IPY_MODEL_3e19f531a18e43b9bb026139f3926ef6",
              "IPY_MODEL_1e555881b6d6440ebba7715dcc442a0b"
            ],
            "layout": "IPY_MODEL_7293433e1f7c474dbb6c610e6a598d5c"
          }
        },
        "4a40b41ba26e4c3eb0a974ae6ee96247": {
          "model_module": "@jupyter-widgets/controls",
          "model_name": "HTMLModel",
          "model_module_version": "1.5.0",
          "state": {
            "_dom_classes": [],
            "_model_module": "@jupyter-widgets/controls",
            "_model_module_version": "1.5.0",
            "_model_name": "HTMLModel",
            "_view_count": null,
            "_view_module": "@jupyter-widgets/controls",
            "_view_module_version": "1.5.0",
            "_view_name": "HTMLView",
            "description": "",
            "description_tooltip": null,
            "layout": "IPY_MODEL_e5f0826a9ca44cedafe6e16039d72d3a",
            "placeholder": "​",
            "style": "IPY_MODEL_12c5988906324d8a8d8a8d99cc1ddf38",
            "value": "100%"
          }
        },
        "3e19f531a18e43b9bb026139f3926ef6": {
          "model_module": "@jupyter-widgets/controls",
          "model_name": "FloatProgressModel",
          "model_module_version": "1.5.0",
          "state": {
            "_dom_classes": [],
            "_model_module": "@jupyter-widgets/controls",
            "_model_module_version": "1.5.0",
            "_model_name": "FloatProgressModel",
            "_view_count": null,
            "_view_module": "@jupyter-widgets/controls",
            "_view_module_version": "1.5.0",
            "_view_name": "ProgressView",
            "bar_style": "success",
            "description": "",
            "description_tooltip": null,
            "layout": "IPY_MODEL_2d9141f9456c496e9eb9cdf3f957c7c4",
            "max": 500,
            "min": 0,
            "orientation": "horizontal",
            "style": "IPY_MODEL_fab5b168982940c2b484cd7a37e3897c",
            "value": 500
          }
        },
        "1e555881b6d6440ebba7715dcc442a0b": {
          "model_module": "@jupyter-widgets/controls",
          "model_name": "HTMLModel",
          "model_module_version": "1.5.0",
          "state": {
            "_dom_classes": [],
            "_model_module": "@jupyter-widgets/controls",
            "_model_module_version": "1.5.0",
            "_model_name": "HTMLModel",
            "_view_count": null,
            "_view_module": "@jupyter-widgets/controls",
            "_view_module_version": "1.5.0",
            "_view_name": "HTMLView",
            "description": "",
            "description_tooltip": null,
            "layout": "IPY_MODEL_02b16c894e6c4e2e9f5b924ac8808e22",
            "placeholder": "​",
            "style": "IPY_MODEL_40b0de34e5a940d2988d3ddf9effaf7a",
            "value": " 500/500 [00:00&lt;00:00, 1021.13it/s]"
          }
        },
        "7293433e1f7c474dbb6c610e6a598d5c": {
          "model_module": "@jupyter-widgets/base",
          "model_name": "LayoutModel",
          "model_module_version": "1.2.0",
          "state": {
            "_model_module": "@jupyter-widgets/base",
            "_model_module_version": "1.2.0",
            "_model_name": "LayoutModel",
            "_view_count": null,
            "_view_module": "@jupyter-widgets/base",
            "_view_module_version": "1.2.0",
            "_view_name": "LayoutView",
            "align_content": null,
            "align_items": null,
            "align_self": null,
            "border": null,
            "bottom": null,
            "display": null,
            "flex": null,
            "flex_flow": null,
            "grid_area": null,
            "grid_auto_columns": null,
            "grid_auto_flow": null,
            "grid_auto_rows": null,
            "grid_column": null,
            "grid_gap": null,
            "grid_row": null,
            "grid_template_areas": null,
            "grid_template_columns": null,
            "grid_template_rows": null,
            "height": null,
            "justify_content": null,
            "justify_items": null,
            "left": null,
            "margin": null,
            "max_height": null,
            "max_width": null,
            "min_height": null,
            "min_width": null,
            "object_fit": null,
            "object_position": null,
            "order": null,
            "overflow": null,
            "overflow_x": null,
            "overflow_y": null,
            "padding": null,
            "right": null,
            "top": null,
            "visibility": null,
            "width": null
          }
        },
        "e5f0826a9ca44cedafe6e16039d72d3a": {
          "model_module": "@jupyter-widgets/base",
          "model_name": "LayoutModel",
          "model_module_version": "1.2.0",
          "state": {
            "_model_module": "@jupyter-widgets/base",
            "_model_module_version": "1.2.0",
            "_model_name": "LayoutModel",
            "_view_count": null,
            "_view_module": "@jupyter-widgets/base",
            "_view_module_version": "1.2.0",
            "_view_name": "LayoutView",
            "align_content": null,
            "align_items": null,
            "align_self": null,
            "border": null,
            "bottom": null,
            "display": null,
            "flex": null,
            "flex_flow": null,
            "grid_area": null,
            "grid_auto_columns": null,
            "grid_auto_flow": null,
            "grid_auto_rows": null,
            "grid_column": null,
            "grid_gap": null,
            "grid_row": null,
            "grid_template_areas": null,
            "grid_template_columns": null,
            "grid_template_rows": null,
            "height": null,
            "justify_content": null,
            "justify_items": null,
            "left": null,
            "margin": null,
            "max_height": null,
            "max_width": null,
            "min_height": null,
            "min_width": null,
            "object_fit": null,
            "object_position": null,
            "order": null,
            "overflow": null,
            "overflow_x": null,
            "overflow_y": null,
            "padding": null,
            "right": null,
            "top": null,
            "visibility": null,
            "width": null
          }
        },
        "12c5988906324d8a8d8a8d99cc1ddf38": {
          "model_module": "@jupyter-widgets/controls",
          "model_name": "DescriptionStyleModel",
          "model_module_version": "1.5.0",
          "state": {
            "_model_module": "@jupyter-widgets/controls",
            "_model_module_version": "1.5.0",
            "_model_name": "DescriptionStyleModel",
            "_view_count": null,
            "_view_module": "@jupyter-widgets/base",
            "_view_module_version": "1.2.0",
            "_view_name": "StyleView",
            "description_width": ""
          }
        },
        "2d9141f9456c496e9eb9cdf3f957c7c4": {
          "model_module": "@jupyter-widgets/base",
          "model_name": "LayoutModel",
          "model_module_version": "1.2.0",
          "state": {
            "_model_module": "@jupyter-widgets/base",
            "_model_module_version": "1.2.0",
            "_model_name": "LayoutModel",
            "_view_count": null,
            "_view_module": "@jupyter-widgets/base",
            "_view_module_version": "1.2.0",
            "_view_name": "LayoutView",
            "align_content": null,
            "align_items": null,
            "align_self": null,
            "border": null,
            "bottom": null,
            "display": null,
            "flex": null,
            "flex_flow": null,
            "grid_area": null,
            "grid_auto_columns": null,
            "grid_auto_flow": null,
            "grid_auto_rows": null,
            "grid_column": null,
            "grid_gap": null,
            "grid_row": null,
            "grid_template_areas": null,
            "grid_template_columns": null,
            "grid_template_rows": null,
            "height": null,
            "justify_content": null,
            "justify_items": null,
            "left": null,
            "margin": null,
            "max_height": null,
            "max_width": null,
            "min_height": null,
            "min_width": null,
            "object_fit": null,
            "object_position": null,
            "order": null,
            "overflow": null,
            "overflow_x": null,
            "overflow_y": null,
            "padding": null,
            "right": null,
            "top": null,
            "visibility": null,
            "width": null
          }
        },
        "fab5b168982940c2b484cd7a37e3897c": {
          "model_module": "@jupyter-widgets/controls",
          "model_name": "ProgressStyleModel",
          "model_module_version": "1.5.0",
          "state": {
            "_model_module": "@jupyter-widgets/controls",
            "_model_module_version": "1.5.0",
            "_model_name": "ProgressStyleModel",
            "_view_count": null,
            "_view_module": "@jupyter-widgets/base",
            "_view_module_version": "1.2.0",
            "_view_name": "StyleView",
            "bar_color": null,
            "description_width": ""
          }
        },
        "02b16c894e6c4e2e9f5b924ac8808e22": {
          "model_module": "@jupyter-widgets/base",
          "model_name": "LayoutModel",
          "model_module_version": "1.2.0",
          "state": {
            "_model_module": "@jupyter-widgets/base",
            "_model_module_version": "1.2.0",
            "_model_name": "LayoutModel",
            "_view_count": null,
            "_view_module": "@jupyter-widgets/base",
            "_view_module_version": "1.2.0",
            "_view_name": "LayoutView",
            "align_content": null,
            "align_items": null,
            "align_self": null,
            "border": null,
            "bottom": null,
            "display": null,
            "flex": null,
            "flex_flow": null,
            "grid_area": null,
            "grid_auto_columns": null,
            "grid_auto_flow": null,
            "grid_auto_rows": null,
            "grid_column": null,
            "grid_gap": null,
            "grid_row": null,
            "grid_template_areas": null,
            "grid_template_columns": null,
            "grid_template_rows": null,
            "height": null,
            "justify_content": null,
            "justify_items": null,
            "left": null,
            "margin": null,
            "max_height": null,
            "max_width": null,
            "min_height": null,
            "min_width": null,
            "object_fit": null,
            "object_position": null,
            "order": null,
            "overflow": null,
            "overflow_x": null,
            "overflow_y": null,
            "padding": null,
            "right": null,
            "top": null,
            "visibility": null,
            "width": null
          }
        },
        "40b0de34e5a940d2988d3ddf9effaf7a": {
          "model_module": "@jupyter-widgets/controls",
          "model_name": "DescriptionStyleModel",
          "model_module_version": "1.5.0",
          "state": {
            "_model_module": "@jupyter-widgets/controls",
            "_model_module_version": "1.5.0",
            "_model_name": "DescriptionStyleModel",
            "_view_count": null,
            "_view_module": "@jupyter-widgets/base",
            "_view_module_version": "1.2.0",
            "_view_name": "StyleView",
            "description_width": ""
          }
        },
        "a173ae03e36b44949223369e84580a1d": {
          "model_module": "@jupyter-widgets/controls",
          "model_name": "HBoxModel",
          "model_module_version": "1.5.0",
          "state": {
            "_dom_classes": [],
            "_model_module": "@jupyter-widgets/controls",
            "_model_module_version": "1.5.0",
            "_model_name": "HBoxModel",
            "_view_count": null,
            "_view_module": "@jupyter-widgets/controls",
            "_view_module_version": "1.5.0",
            "_view_name": "HBoxView",
            "box_style": "",
            "children": [
              "IPY_MODEL_fcb6b0c904f34506ad4d1b865911ae49",
              "IPY_MODEL_7c9f120bb2e04bf680c272856db03711",
              "IPY_MODEL_45d77d148cfb41efae2db6117c85d592"
            ],
            "layout": "IPY_MODEL_724aeaa1efa34de2836706a03e337964"
          }
        },
        "fcb6b0c904f34506ad4d1b865911ae49": {
          "model_module": "@jupyter-widgets/controls",
          "model_name": "HTMLModel",
          "model_module_version": "1.5.0",
          "state": {
            "_dom_classes": [],
            "_model_module": "@jupyter-widgets/controls",
            "_model_module_version": "1.5.0",
            "_model_name": "HTMLModel",
            "_view_count": null,
            "_view_module": "@jupyter-widgets/controls",
            "_view_module_version": "1.5.0",
            "_view_name": "HTMLView",
            "description": "",
            "description_tooltip": null,
            "layout": "IPY_MODEL_c6a3438ceb884bfb97a534e3cc2cc27d",
            "placeholder": "​",
            "style": "IPY_MODEL_aeb624b89eca4986a48cda6761694da7",
            "value": "100%"
          }
        },
        "7c9f120bb2e04bf680c272856db03711": {
          "model_module": "@jupyter-widgets/controls",
          "model_name": "FloatProgressModel",
          "model_module_version": "1.5.0",
          "state": {
            "_dom_classes": [],
            "_model_module": "@jupyter-widgets/controls",
            "_model_module_version": "1.5.0",
            "_model_name": "FloatProgressModel",
            "_view_count": null,
            "_view_module": "@jupyter-widgets/controls",
            "_view_module_version": "1.5.0",
            "_view_name": "ProgressView",
            "bar_style": "success",
            "description": "",
            "description_tooltip": null,
            "layout": "IPY_MODEL_d52823d72e0941a7aa4e8bfc5f5ef1e2",
            "max": 500,
            "min": 0,
            "orientation": "horizontal",
            "style": "IPY_MODEL_682abd1fab4e4b6f9b3fda0c609a4c97",
            "value": 500
          }
        },
        "45d77d148cfb41efae2db6117c85d592": {
          "model_module": "@jupyter-widgets/controls",
          "model_name": "HTMLModel",
          "model_module_version": "1.5.0",
          "state": {
            "_dom_classes": [],
            "_model_module": "@jupyter-widgets/controls",
            "_model_module_version": "1.5.0",
            "_model_name": "HTMLModel",
            "_view_count": null,
            "_view_module": "@jupyter-widgets/controls",
            "_view_module_version": "1.5.0",
            "_view_name": "HTMLView",
            "description": "",
            "description_tooltip": null,
            "layout": "IPY_MODEL_4ca62cb6059d45cc96f9073908652335",
            "placeholder": "​",
            "style": "IPY_MODEL_12a8f66a7c0b41faa2559a388c81984f",
            "value": " 500/500 [00:00&lt;00:00, 5155.94it/s]"
          }
        },
        "724aeaa1efa34de2836706a03e337964": {
          "model_module": "@jupyter-widgets/base",
          "model_name": "LayoutModel",
          "model_module_version": "1.2.0",
          "state": {
            "_model_module": "@jupyter-widgets/base",
            "_model_module_version": "1.2.0",
            "_model_name": "LayoutModel",
            "_view_count": null,
            "_view_module": "@jupyter-widgets/base",
            "_view_module_version": "1.2.0",
            "_view_name": "LayoutView",
            "align_content": null,
            "align_items": null,
            "align_self": null,
            "border": null,
            "bottom": null,
            "display": null,
            "flex": null,
            "flex_flow": null,
            "grid_area": null,
            "grid_auto_columns": null,
            "grid_auto_flow": null,
            "grid_auto_rows": null,
            "grid_column": null,
            "grid_gap": null,
            "grid_row": null,
            "grid_template_areas": null,
            "grid_template_columns": null,
            "grid_template_rows": null,
            "height": null,
            "justify_content": null,
            "justify_items": null,
            "left": null,
            "margin": null,
            "max_height": null,
            "max_width": null,
            "min_height": null,
            "min_width": null,
            "object_fit": null,
            "object_position": null,
            "order": null,
            "overflow": null,
            "overflow_x": null,
            "overflow_y": null,
            "padding": null,
            "right": null,
            "top": null,
            "visibility": null,
            "width": null
          }
        },
        "c6a3438ceb884bfb97a534e3cc2cc27d": {
          "model_module": "@jupyter-widgets/base",
          "model_name": "LayoutModel",
          "model_module_version": "1.2.0",
          "state": {
            "_model_module": "@jupyter-widgets/base",
            "_model_module_version": "1.2.0",
            "_model_name": "LayoutModel",
            "_view_count": null,
            "_view_module": "@jupyter-widgets/base",
            "_view_module_version": "1.2.0",
            "_view_name": "LayoutView",
            "align_content": null,
            "align_items": null,
            "align_self": null,
            "border": null,
            "bottom": null,
            "display": null,
            "flex": null,
            "flex_flow": null,
            "grid_area": null,
            "grid_auto_columns": null,
            "grid_auto_flow": null,
            "grid_auto_rows": null,
            "grid_column": null,
            "grid_gap": null,
            "grid_row": null,
            "grid_template_areas": null,
            "grid_template_columns": null,
            "grid_template_rows": null,
            "height": null,
            "justify_content": null,
            "justify_items": null,
            "left": null,
            "margin": null,
            "max_height": null,
            "max_width": null,
            "min_height": null,
            "min_width": null,
            "object_fit": null,
            "object_position": null,
            "order": null,
            "overflow": null,
            "overflow_x": null,
            "overflow_y": null,
            "padding": null,
            "right": null,
            "top": null,
            "visibility": null,
            "width": null
          }
        },
        "aeb624b89eca4986a48cda6761694da7": {
          "model_module": "@jupyter-widgets/controls",
          "model_name": "DescriptionStyleModel",
          "model_module_version": "1.5.0",
          "state": {
            "_model_module": "@jupyter-widgets/controls",
            "_model_module_version": "1.5.0",
            "_model_name": "DescriptionStyleModel",
            "_view_count": null,
            "_view_module": "@jupyter-widgets/base",
            "_view_module_version": "1.2.0",
            "_view_name": "StyleView",
            "description_width": ""
          }
        },
        "d52823d72e0941a7aa4e8bfc5f5ef1e2": {
          "model_module": "@jupyter-widgets/base",
          "model_name": "LayoutModel",
          "model_module_version": "1.2.0",
          "state": {
            "_model_module": "@jupyter-widgets/base",
            "_model_module_version": "1.2.0",
            "_model_name": "LayoutModel",
            "_view_count": null,
            "_view_module": "@jupyter-widgets/base",
            "_view_module_version": "1.2.0",
            "_view_name": "LayoutView",
            "align_content": null,
            "align_items": null,
            "align_self": null,
            "border": null,
            "bottom": null,
            "display": null,
            "flex": null,
            "flex_flow": null,
            "grid_area": null,
            "grid_auto_columns": null,
            "grid_auto_flow": null,
            "grid_auto_rows": null,
            "grid_column": null,
            "grid_gap": null,
            "grid_row": null,
            "grid_template_areas": null,
            "grid_template_columns": null,
            "grid_template_rows": null,
            "height": null,
            "justify_content": null,
            "justify_items": null,
            "left": null,
            "margin": null,
            "max_height": null,
            "max_width": null,
            "min_height": null,
            "min_width": null,
            "object_fit": null,
            "object_position": null,
            "order": null,
            "overflow": null,
            "overflow_x": null,
            "overflow_y": null,
            "padding": null,
            "right": null,
            "top": null,
            "visibility": null,
            "width": null
          }
        },
        "682abd1fab4e4b6f9b3fda0c609a4c97": {
          "model_module": "@jupyter-widgets/controls",
          "model_name": "ProgressStyleModel",
          "model_module_version": "1.5.0",
          "state": {
            "_model_module": "@jupyter-widgets/controls",
            "_model_module_version": "1.5.0",
            "_model_name": "ProgressStyleModel",
            "_view_count": null,
            "_view_module": "@jupyter-widgets/base",
            "_view_module_version": "1.2.0",
            "_view_name": "StyleView",
            "bar_color": null,
            "description_width": ""
          }
        },
        "4ca62cb6059d45cc96f9073908652335": {
          "model_module": "@jupyter-widgets/base",
          "model_name": "LayoutModel",
          "model_module_version": "1.2.0",
          "state": {
            "_model_module": "@jupyter-widgets/base",
            "_model_module_version": "1.2.0",
            "_model_name": "LayoutModel",
            "_view_count": null,
            "_view_module": "@jupyter-widgets/base",
            "_view_module_version": "1.2.0",
            "_view_name": "LayoutView",
            "align_content": null,
            "align_items": null,
            "align_self": null,
            "border": null,
            "bottom": null,
            "display": null,
            "flex": null,
            "flex_flow": null,
            "grid_area": null,
            "grid_auto_columns": null,
            "grid_auto_flow": null,
            "grid_auto_rows": null,
            "grid_column": null,
            "grid_gap": null,
            "grid_row": null,
            "grid_template_areas": null,
            "grid_template_columns": null,
            "grid_template_rows": null,
            "height": null,
            "justify_content": null,
            "justify_items": null,
            "left": null,
            "margin": null,
            "max_height": null,
            "max_width": null,
            "min_height": null,
            "min_width": null,
            "object_fit": null,
            "object_position": null,
            "order": null,
            "overflow": null,
            "overflow_x": null,
            "overflow_y": null,
            "padding": null,
            "right": null,
            "top": null,
            "visibility": null,
            "width": null
          }
        },
        "12a8f66a7c0b41faa2559a388c81984f": {
          "model_module": "@jupyter-widgets/controls",
          "model_name": "DescriptionStyleModel",
          "model_module_version": "1.5.0",
          "state": {
            "_model_module": "@jupyter-widgets/controls",
            "_model_module_version": "1.5.0",
            "_model_name": "DescriptionStyleModel",
            "_view_count": null,
            "_view_module": "@jupyter-widgets/base",
            "_view_module_version": "1.2.0",
            "_view_name": "StyleView",
            "description_width": ""
          }
        },
        "68247cfd3d1a4c55905aa8a918ac2599": {
          "model_module": "@jupyter-widgets/controls",
          "model_name": "HBoxModel",
          "model_module_version": "1.5.0",
          "state": {
            "_dom_classes": [],
            "_model_module": "@jupyter-widgets/controls",
            "_model_module_version": "1.5.0",
            "_model_name": "HBoxModel",
            "_view_count": null,
            "_view_module": "@jupyter-widgets/controls",
            "_view_module_version": "1.5.0",
            "_view_name": "HBoxView",
            "box_style": "",
            "children": [
              "IPY_MODEL_693f8465e9a24ea8bbf5ea1e723e9113",
              "IPY_MODEL_6b5e2e3f2eff483687eb3e67ac75ebeb",
              "IPY_MODEL_26c5759950e842ad815b63f8451b07d0"
            ],
            "layout": "IPY_MODEL_e18eb6499f594d0c86b99c06421a0001"
          }
        },
        "693f8465e9a24ea8bbf5ea1e723e9113": {
          "model_module": "@jupyter-widgets/controls",
          "model_name": "HTMLModel",
          "model_module_version": "1.5.0",
          "state": {
            "_dom_classes": [],
            "_model_module": "@jupyter-widgets/controls",
            "_model_module_version": "1.5.0",
            "_model_name": "HTMLModel",
            "_view_count": null,
            "_view_module": "@jupyter-widgets/controls",
            "_view_module_version": "1.5.0",
            "_view_name": "HTMLView",
            "description": "",
            "description_tooltip": null,
            "layout": "IPY_MODEL_a08a2e74eb85499abd9b4510310253ba",
            "placeholder": "​",
            "style": "IPY_MODEL_dcdd29f488a44d0daf3f30ee584dc2b3",
            "value": "100%"
          }
        },
        "6b5e2e3f2eff483687eb3e67ac75ebeb": {
          "model_module": "@jupyter-widgets/controls",
          "model_name": "FloatProgressModel",
          "model_module_version": "1.5.0",
          "state": {
            "_dom_classes": [],
            "_model_module": "@jupyter-widgets/controls",
            "_model_module_version": "1.5.0",
            "_model_name": "FloatProgressModel",
            "_view_count": null,
            "_view_module": "@jupyter-widgets/controls",
            "_view_module_version": "1.5.0",
            "_view_name": "ProgressView",
            "bar_style": "success",
            "description": "",
            "description_tooltip": null,
            "layout": "IPY_MODEL_b5e6563adf504653a55dedcef34dea0a",
            "max": 100,
            "min": 0,
            "orientation": "horizontal",
            "style": "IPY_MODEL_ac2fa955ec0d4590992a810ca1461e04",
            "value": 100
          }
        },
        "26c5759950e842ad815b63f8451b07d0": {
          "model_module": "@jupyter-widgets/controls",
          "model_name": "HTMLModel",
          "model_module_version": "1.5.0",
          "state": {
            "_dom_classes": [],
            "_model_module": "@jupyter-widgets/controls",
            "_model_module_version": "1.5.0",
            "_model_name": "HTMLModel",
            "_view_count": null,
            "_view_module": "@jupyter-widgets/controls",
            "_view_module_version": "1.5.0",
            "_view_name": "HTMLView",
            "description": "",
            "description_tooltip": null,
            "layout": "IPY_MODEL_f16a1e372b044c82b04798d9bd1570f4",
            "placeholder": "​",
            "style": "IPY_MODEL_16d9363cfa0e407aa40e4482d5e2bed5",
            "value": " 100/100 [00:00&lt;00:00, 645.85it/s]"
          }
        },
        "e18eb6499f594d0c86b99c06421a0001": {
          "model_module": "@jupyter-widgets/base",
          "model_name": "LayoutModel",
          "model_module_version": "1.2.0",
          "state": {
            "_model_module": "@jupyter-widgets/base",
            "_model_module_version": "1.2.0",
            "_model_name": "LayoutModel",
            "_view_count": null,
            "_view_module": "@jupyter-widgets/base",
            "_view_module_version": "1.2.0",
            "_view_name": "LayoutView",
            "align_content": null,
            "align_items": null,
            "align_self": null,
            "border": null,
            "bottom": null,
            "display": null,
            "flex": null,
            "flex_flow": null,
            "grid_area": null,
            "grid_auto_columns": null,
            "grid_auto_flow": null,
            "grid_auto_rows": null,
            "grid_column": null,
            "grid_gap": null,
            "grid_row": null,
            "grid_template_areas": null,
            "grid_template_columns": null,
            "grid_template_rows": null,
            "height": null,
            "justify_content": null,
            "justify_items": null,
            "left": null,
            "margin": null,
            "max_height": null,
            "max_width": null,
            "min_height": null,
            "min_width": null,
            "object_fit": null,
            "object_position": null,
            "order": null,
            "overflow": null,
            "overflow_x": null,
            "overflow_y": null,
            "padding": null,
            "right": null,
            "top": null,
            "visibility": null,
            "width": null
          }
        },
        "a08a2e74eb85499abd9b4510310253ba": {
          "model_module": "@jupyter-widgets/base",
          "model_name": "LayoutModel",
          "model_module_version": "1.2.0",
          "state": {
            "_model_module": "@jupyter-widgets/base",
            "_model_module_version": "1.2.0",
            "_model_name": "LayoutModel",
            "_view_count": null,
            "_view_module": "@jupyter-widgets/base",
            "_view_module_version": "1.2.0",
            "_view_name": "LayoutView",
            "align_content": null,
            "align_items": null,
            "align_self": null,
            "border": null,
            "bottom": null,
            "display": null,
            "flex": null,
            "flex_flow": null,
            "grid_area": null,
            "grid_auto_columns": null,
            "grid_auto_flow": null,
            "grid_auto_rows": null,
            "grid_column": null,
            "grid_gap": null,
            "grid_row": null,
            "grid_template_areas": null,
            "grid_template_columns": null,
            "grid_template_rows": null,
            "height": null,
            "justify_content": null,
            "justify_items": null,
            "left": null,
            "margin": null,
            "max_height": null,
            "max_width": null,
            "min_height": null,
            "min_width": null,
            "object_fit": null,
            "object_position": null,
            "order": null,
            "overflow": null,
            "overflow_x": null,
            "overflow_y": null,
            "padding": null,
            "right": null,
            "top": null,
            "visibility": null,
            "width": null
          }
        },
        "dcdd29f488a44d0daf3f30ee584dc2b3": {
          "model_module": "@jupyter-widgets/controls",
          "model_name": "DescriptionStyleModel",
          "model_module_version": "1.5.0",
          "state": {
            "_model_module": "@jupyter-widgets/controls",
            "_model_module_version": "1.5.0",
            "_model_name": "DescriptionStyleModel",
            "_view_count": null,
            "_view_module": "@jupyter-widgets/base",
            "_view_module_version": "1.2.0",
            "_view_name": "StyleView",
            "description_width": ""
          }
        },
        "b5e6563adf504653a55dedcef34dea0a": {
          "model_module": "@jupyter-widgets/base",
          "model_name": "LayoutModel",
          "model_module_version": "1.2.0",
          "state": {
            "_model_module": "@jupyter-widgets/base",
            "_model_module_version": "1.2.0",
            "_model_name": "LayoutModel",
            "_view_count": null,
            "_view_module": "@jupyter-widgets/base",
            "_view_module_version": "1.2.0",
            "_view_name": "LayoutView",
            "align_content": null,
            "align_items": null,
            "align_self": null,
            "border": null,
            "bottom": null,
            "display": null,
            "flex": null,
            "flex_flow": null,
            "grid_area": null,
            "grid_auto_columns": null,
            "grid_auto_flow": null,
            "grid_auto_rows": null,
            "grid_column": null,
            "grid_gap": null,
            "grid_row": null,
            "grid_template_areas": null,
            "grid_template_columns": null,
            "grid_template_rows": null,
            "height": null,
            "justify_content": null,
            "justify_items": null,
            "left": null,
            "margin": null,
            "max_height": null,
            "max_width": null,
            "min_height": null,
            "min_width": null,
            "object_fit": null,
            "object_position": null,
            "order": null,
            "overflow": null,
            "overflow_x": null,
            "overflow_y": null,
            "padding": null,
            "right": null,
            "top": null,
            "visibility": null,
            "width": null
          }
        },
        "ac2fa955ec0d4590992a810ca1461e04": {
          "model_module": "@jupyter-widgets/controls",
          "model_name": "ProgressStyleModel",
          "model_module_version": "1.5.0",
          "state": {
            "_model_module": "@jupyter-widgets/controls",
            "_model_module_version": "1.5.0",
            "_model_name": "ProgressStyleModel",
            "_view_count": null,
            "_view_module": "@jupyter-widgets/base",
            "_view_module_version": "1.2.0",
            "_view_name": "StyleView",
            "bar_color": null,
            "description_width": ""
          }
        },
        "f16a1e372b044c82b04798d9bd1570f4": {
          "model_module": "@jupyter-widgets/base",
          "model_name": "LayoutModel",
          "model_module_version": "1.2.0",
          "state": {
            "_model_module": "@jupyter-widgets/base",
            "_model_module_version": "1.2.0",
            "_model_name": "LayoutModel",
            "_view_count": null,
            "_view_module": "@jupyter-widgets/base",
            "_view_module_version": "1.2.0",
            "_view_name": "LayoutView",
            "align_content": null,
            "align_items": null,
            "align_self": null,
            "border": null,
            "bottom": null,
            "display": null,
            "flex": null,
            "flex_flow": null,
            "grid_area": null,
            "grid_auto_columns": null,
            "grid_auto_flow": null,
            "grid_auto_rows": null,
            "grid_column": null,
            "grid_gap": null,
            "grid_row": null,
            "grid_template_areas": null,
            "grid_template_columns": null,
            "grid_template_rows": null,
            "height": null,
            "justify_content": null,
            "justify_items": null,
            "left": null,
            "margin": null,
            "max_height": null,
            "max_width": null,
            "min_height": null,
            "min_width": null,
            "object_fit": null,
            "object_position": null,
            "order": null,
            "overflow": null,
            "overflow_x": null,
            "overflow_y": null,
            "padding": null,
            "right": null,
            "top": null,
            "visibility": null,
            "width": null
          }
        },
        "16d9363cfa0e407aa40e4482d5e2bed5": {
          "model_module": "@jupyter-widgets/controls",
          "model_name": "DescriptionStyleModel",
          "model_module_version": "1.5.0",
          "state": {
            "_model_module": "@jupyter-widgets/controls",
            "_model_module_version": "1.5.0",
            "_model_name": "DescriptionStyleModel",
            "_view_count": null,
            "_view_module": "@jupyter-widgets/base",
            "_view_module_version": "1.2.0",
            "_view_name": "StyleView",
            "description_width": ""
          }
        }
      }
    }
  },
  "nbformat": 4,
  "nbformat_minor": 5
}