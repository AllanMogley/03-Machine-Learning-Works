{
  "cells": [
    {
      "cell_type": "markdown",
      "metadata": {
        "colab_type": "text",
        "id": "view-in-github"
      },
      "source": [
        "<a href=\"https://colab.research.google.com/github/AllanMogley/03-Machine-Learning-Works/blob/main/03_TensorFlow_YOLO_V3/YOLO_v3.ipynb\" target=\"_parent\"><img src=\"https://colab.research.google.com/assets/colab-badge.svg\" alt=\"Open In Colab\"/></a>"
      ]
    },
    {
      "cell_type": "markdown",
      "metadata": {
        "id": "Be_zntOJWg1f"
      },
      "source": [
        "## Navigate to a Folder within Drive\n",
        "(You may skip this part of the code if youre just testing stuff out)"
      ]
    },
    {
      "cell_type": "code",
      "execution_count": null,
      "metadata": {
        "id": "5sR0pnAHTcy_"
      },
      "outputs": [],
      "source": [
        "%cd /content/drive/MyDrive/06 - Codes"
      ]
    },
    {
      "cell_type": "markdown",
      "metadata": {
        "id": "d38wK4FDWxyh"
      },
      "source": [
        "1. Fork a *Repository*"
      ]
    },
    {
      "cell_type": "code",
      "execution_count": null,
      "metadata": {
        "id": "wRAx9hrQWNG8"
      },
      "outputs": [],
      "source": [
        "!git clone https://github.com/YunYang1994/tensorflow-yolov3.git"
      ]
    },
    {
      "cell_type": "markdown",
      "metadata": {
        "id": "bdbW4E08XTlG"
      },
      "source": [
        "2. Install Some dependencies before setting out your hands on these codes"
      ]
    },
    {
      "cell_type": "code",
      "execution_count": null,
      "metadata": {
        "id": "50lOpYViXOuT"
      },
      "outputs": [],
      "source": [
        "%cd tensorflow-yolov3\n",
        "!pip install -r ./docs/requirements.txt"
      ]
    },
    {
      "cell_type": "markdown",
      "metadata": {
        "id": "izjhTKUdZB5W"
      },
      "source": [
        "3. Exporting loaded COCO weights as TF checkpoint(yolov3_coco.ckpt)【BaiduCloud】"
      ]
    },
    {
      "cell_type": "code",
      "execution_count": null,
      "metadata": {
        "id": "02NUWi4mYeMt"
      },
      "outputs": [],
      "source": [
        "%cd checkpoint\n",
        "!wget https://github.com/YunYang1994/tensorflow-yolov3/releases/download/v1.0/yolov3_coco.tar.gz\n",
        "!tar -xvf yolov3_coco.tar.gz\n",
        "%cd ..\n",
        "!python convert_weight.py\n",
        "!python freeze_graph.py"
      ]
    },
    {
      "cell_type": "markdown",
      "metadata": {
        "id": "MyfiITFzaKb_"
      },
      "source": [
        "4. Then you will get some .pb files in the root path., and run the demo script"
      ]
    },
    {
      "cell_type": "code",
      "execution_count": null,
      "metadata": {
        "colab": {
          "base_uri": "https://localhost:8080/"
        },
        "id": "YFUUxz76aN17",
        "outputId": "0b80681b-4ce4-4733-b66e-be7a604b8ecc"
      },
      "outputs": [],
      "source": [
        "!python image_demo.py\n",
        "# !python video_demo.py # if use camera, set video_path = 0"
      ]
    }
  ],
  "metadata": {
    "colab": {
      "authorship_tag": "ABX9TyORD0b33bM0/gJqTXix0xKP",
      "include_colab_link": true,
      "mount_file_id": "1KBcik5PFeYpAsA6UkdnGyiYkMS6gSGfa",
      "provenance": []
    },
    "kernelspec": {
      "display_name": "Python 3",
      "name": "python3"
    },
    "language_info": {
      "name": "python"
    }
  },
  "nbformat": 4,
  "nbformat_minor": 0
}
